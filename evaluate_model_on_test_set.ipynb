{
 "cells": [
  {
   "cell_type": "code",
   "execution_count": 49,
   "metadata": {},
   "outputs": [],
   "source": [
    "import numpy as np\n",
    "\n",
    "from keras.models import load_model\n",
    "\n",
    "import matplotlib.pyplot as plt\n",
    "\n",
    "from scipy.stats import pearsonr,spearmanr"
   ]
  },
  {
   "cell_type": "code",
   "execution_count": 50,
   "metadata": {},
   "outputs": [],
   "source": [
    "model = load_model(\"/projects/pfenninggroup/machineLearningForComputationalBiology/eramamur_stuff/ml_lcl/model_11_hg19.hdf5\", compile=False)"
   ]
  },
  {
   "cell_type": "code",
   "execution_count": 16,
   "metadata": {},
   "outputs": [],
   "source": [
    "X = np.load(\"/projects/pfenninggroup/machineLearningForComputationalBiology/eramamur_stuff/ml_monocyte/chr8_9_summit_centered_test_set_X.npy\")"
   ]
  },
  {
   "cell_type": "code",
   "execution_count": null,
   "metadata": {},
   "outputs": [],
   "source": [
    "Ypred = model.predict(X)"
   ]
  },
  {
   "cell_type": "code",
   "execution_count": null,
   "metadata": {},
   "outputs": [],
   "source": [
    "Y = np.load(\"/projects/pfenninggroup/machineLearningForComputationalBiology/eramamur_stuff/ml_monocyte/chr8_9_summit_centered_test_set_Y_gc.npy\")"
   ]
  },
  {
   "cell_type": "code",
   "execution_count": 10,
   "metadata": {},
   "outputs": [
    {
     "data": {
      "text/plain": [
       "<matplotlib.collections.PathCollection at 0x7f7ca1986ef0>"
      ]
     },
     "execution_count": 10,
     "metadata": {},
     "output_type": "execute_result"
    },
    {
     "data": {
      "image/png": "[encoded data removed]",
      "text/plain": [
       "<Figure size 432x288 with 1 Axes>"
      ]
     },
     "metadata": {
      "needs_background": "light"
     },
     "output_type": "display_data"
    }
   ],
   "source": [
    "plt.scatter(Ypred,Y)"
   ]
  },
  {
   "cell_type": "code",
   "execution_count": 12,
   "metadata": {},
   "outputs": [
    {
     "data": {
      "text/plain": [
       "(array([0.63972272]), array([0.]))"
      ]
     },
     "execution_count": 12,
     "metadata": {},
     "output_type": "execute_result"
    }
   ],
   "source": [
    "pearsonr(Ypred,Y)"
   ]
  },
  {
   "cell_type": "code",
   "execution_count": 13,
   "metadata": {},
   "outputs": [
    {
     "data": {
      "text/plain": [
       "SpearmanrResult(correlation=0.6560647712406029, pvalue=0.0)"
      ]
     },
     "execution_count": 13,
     "metadata": {},
     "output_type": "execute_result"
    }
   ],
   "source": [
    "spearmanr(Ypred,Y)"
   ]
  },
  {
   "cell_type": "code",
   "execution_count": 20,
   "metadata": {},
   "outputs": [],
   "source": [
    "def oneHotEncodeSequence(sequence):\n",
    "    oneHotDimension = (len(sequence), 4)\n",
    "    dnaAlphabet = {\"A\":0, \"G\":1, \"C\":2, \"T\":3}\n",
    "    one_hot_encoded_sequence = np.zeros(oneHotDimension, dtype=np.int)\n",
    "    for i, nucleotide in enumerate(sequence):\n",
    "        if nucleotide.upper() in dnaAlphabet:\n",
    "            index = dnaAlphabet[nucleotide.upper()]\n",
    "            one_hot_encoded_sequence[i][index] = 1\n",
    "    return one_hot_encoded_sequence"
   ]
  },
  {
   "cell_type": "code",
   "execution_count": 26,
   "metadata": {},
   "outputs": [],
   "source": [
    "mysequence = '''gtctcgctgtccacccctgtagtgcagtgagctcggctccctgcggccttgacctcccgggctcaggcaatcctcccgcctcagcccacggagtagatgggaccacaggagcccaccacgcccgactactttttgtaatttttgtagggatggggtctatccatgctgcccaggctggtccgaactgctgggctcaagagctccgcccgcctccgcctcccaaagggcagggatcacaggtgtgagctaccgcgccccgccCAGAGTTTCCGACTGTTAGCAAATCACATTCACCTCAAAACTATTTATACAAGAACTGAAAGGCAAACTAAGTCCGTGCTCCATCACTTCCTGTCCCAGGTCGCGGGGCCGGACATTTTCTCCAAGCGCTTTCCTGGCACAGCGCGCAGGCGGCCTGCGCCAAAGCTCTGGCTTCCTCCAGGCGCCCAGACCCCGCCCTCCCCGCAGGCGCCAGGGCGTTGCCTGGCAACTTAGCTGCGAGGGGATTGGCTGCGCGGGACCCCGTGACCATCCCGGAGACCACGCATTTCCTGCGCCCCCGGAAGTGGTGATAATGCCAGGCCCTGCCCCCGGCAGAGGCGGAAGCGGAGTCGGCCTGAGAGGTCTCTCGTCGCTGCAGGCGCCTCAGCCCAGCCGCGTGCCTTGGCCCATGGCCGCCTACTCTTACCGCCCCGGCCCTGGGGCCGGCCCTGGGCCTGCTGCAGGCGCGGCGCTGCCGGACCAGAGCTTCCTGTGGAACGTTTTCCAGAGGTGCGGCCTGGCACCGCCCGGGCACCTCCCGCCTCCGCCGCGGCGGCCCCGACCCCTGTCCCGACTCCCCCGACCAACCCCGTTCCCTGCCGGTTCTACTGCGGCCTCCTCCGTCCCCTGTCGGGTCCCCCGCGGCCCCCTCCCGTCCCCTGCCGCCGCCCCCGACCCCTGCCCCAGCCGACGCGGCCGCCCCCGTCCCCTGGCGGGTCCCCCGCGGTCTCCCCCGTCC'''"
   ]
  },
  {
   "cell_type": "code",
   "execution_count": 27,
   "metadata": {},
   "outputs": [
    {
     "data": {
      "text/plain": [
       "1000"
      ]
     },
     "execution_count": 27,
     "metadata": {},
     "output_type": "execute_result"
    }
   ],
   "source": [
    "len(mysequence)"
   ]
  },
  {
   "cell_type": "code",
   "execution_count": 30,
   "metadata": {},
   "outputs": [],
   "source": [
    "peiransequence = '''TCTCGCTGTCCACCCCTGTAGTGCAGTGAGCTCGGCTCCCTGCGGCCTTGACCTCCCGGGCTCAGGCAATCCTCCCGCCTCAGCCCACGGAGTAGATGGGACCACAGGAGCCCACCACGCCCGACTACTTTTTGTAATTTTTGTAGGGATGGGGTCTATCCATGCTGCCCAGGCTGGTCCGAACTGCTGGGCTCAAGAGCTCCGCCCGCCTCCGCCTCCCAAAGGGCAGGGATCACAGGTGTGAGCTACCGCGCCCCGCCCAGAGTTTCCGACTGTTAGCAAATCACATTCACCTCAAAACTATTTATACAAGAACTGAAAGGCAAACTAAGTCCGTGCTCCATCACTTCCTGTCCCAGGTCGCGGGGCCGGACATTTTCTCCAAGCGCTTTCCTGGCACAGCGCGCAGGCGGCCTGCGCCAAAGCTCTGGCTTCCTCCAGGCGCCCAGACCCCGCCCTCCCCGCAGGCGCCAGGGCGTTGCCTGGCAACTTAGCTGCGAGGGGATTGGCTGCGCGGGACCCCGTGACCATCCCGGAGACCACGCATTTCCTGCGCCCCCGGAAGTGGTGATAATGCCAGGCCCTGCCCCCGGCAGAGGCGGAAGCGGAGTCGGCCTGAGAGGTCTCTCGTCGCTGCAGGCGCCTCAGCCCAGCCGCGTGCCTTGGCCCATGGCCGCCTACTCTTACCGCCCCGGCCCTGGGGCCGGCCCTGGGCCTGCTGCAGGCGCGGCGCTGCCGGACCAGAGCTTCCTGTGGAACGTTTTCCAGAGGTGCGGCCTGGCACCGCCCGGGCACCTCCCGCCTCCGCCGCGGCGGCCCCGACCCCTGTCCCGACTCCCCCGACCAACCCCGTTCCCTGCCGGTTCTACTGCGGCCTCCTCCGTCCCCTGTCGGGTCCCCCGCGGCCCCCTCCCGTCCCCTGCCGCCGCCCCCGACCCCTGCCCCAGCCGACGCGGCCGCCCCCGTCCCCTGGCGGGTCCCCCGCGGTCTCCCCCGTCCG'''"
   ]
  },
  {
   "cell_type": "code",
   "execution_count": 28,
   "metadata": {},
   "outputs": [],
   "source": [
    "myOneHotEncodedSequence = oneHotEncodeSequence(mysequence)"
   ]
  },
  {
   "cell_type": "code",
   "execution_count": 32,
   "metadata": {},
   "outputs": [],
   "source": [
    "peiranOneHotEncodedSequence = oneHotEncodeSequence(peiransequence)"
   ]
  },
  {
   "cell_type": "code",
   "execution_count": 33,
   "metadata": {},
   "outputs": [],
   "source": [
    "sequences = np.stack([myOneHotEncodedSequence,\n",
    "                      peiranOneHotEncodedSequence\n",
    "                     ])"
   ]
  },
  {
   "cell_type": "code",
   "execution_count": 34,
   "metadata": {},
   "outputs": [
    {
     "data": {
      "text/plain": [
       "(2, 1000, 4)"
      ]
     },
     "execution_count": 34,
     "metadata": {},
     "output_type": "execute_result"
    }
   ],
   "source": [
    "sequences.shape"
   ]
  },
  {
   "cell_type": "code",
   "execution_count": 43,
   "metadata": {},
   "outputs": [],
   "source": [
    "myseqPred = model.predict(sequences)"
   ]
  },
  {
   "cell_type": "code",
   "execution_count": 44,
   "metadata": {},
   "outputs": [
    {
     "data": {
      "text/plain": [
       "array([[14.261482],\n",
       "       [14.134691]], dtype=float32)"
      ]
     },
     "execution_count": 44,
     "metadata": {},
     "output_type": "execute_result"
    }
   ],
   "source": [
    "myseqPred"
   ]
  },
  {
   "cell_type": "code",
   "execution_count": null,
   "metadata": {},
   "outputs": [],
   "source": []
  }
 ],
 "metadata": {
  "kernelspec": {
   "display_name": "Python [conda env:gpu_keras_theano]",
   "language": "python",
   "name": "conda-env-gpu_keras_theano-py"
  },
  "language_info": {
   "codemirror_mode": {
    "name": "ipython",
    "version": 3
   },
   "file_extension": ".py",
   "mimetype": "text/x-python",
   "name": "python",
   "nbconvert_exporter": "python",
   "pygments_lexer": "ipython3",
   "version": "3.6.7"
  }
 },
 "nbformat": 4,
 "nbformat_minor": 2
}
