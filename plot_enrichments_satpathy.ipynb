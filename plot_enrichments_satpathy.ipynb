{
 "cells": [
  {
   "cell_type": "code",
   "execution_count": 1,
   "metadata": {},
   "outputs": [],
   "source": [
    "import matplotlib\n",
    "import matplotlib.pyplot as plt\n",
    "from matplotlib import rcParams\n",
    "rcParams.update({'figure.autolayout': True})\n",
    "rcParams['svg.fonttype'] = 'none'\n",
    "rcParams['font.size']=10\n",
    "import pandas as pd\n",
    "import numpy as np\n",
    "import math\n",
    "import matplotlib.patches as mpatches\n",
    "from statsmodels.stats.multitest import multipletests\n",
    "from seaborn import pointplot"
   ]
  },
  {
   "cell_type": "code",
   "execution_count": 2,
   "metadata": {},
   "outputs": [],
   "source": [
    "kunkleFile = '/home/snigdhaa/diff_acess/LD/kunkle_enrichments.cell_type_results.txt'\n",
    "kunkle_data = pd.read_csv(kunkleFile, sep=\"\\t\", header=0)"
   ]
  },
  {
   "cell_type": "code",
   "execution_count": 7,
   "metadata": {},
   "outputs": [],
   "source": [
    "jansenFile = '/home/snigdhaa/diff_acess/LD/jansen_enrichments.cell_type_results.txt'\n",
    "jansen_data = pd.read_csv(jansenFile, sep=\"\\t\", header=0)"
   ]
  },
  {
   "cell_type": "code",
   "execution_count": 8,
   "metadata": {},
   "outputs": [],
   "source": [
    "def plotData(data, label):\n",
    "    data[\"fdr\"] = multipletests(data[\"Coefficient_P_value\"],\n",
    "                                alpha=0.05,\n",
    "                                method='fdr_bh')[1]\n",
    "\n",
    "    data[\"logfdr\"] = [-math.log(val, 10) for val in data[\"fdr\"]]\n",
    "    \n",
    "    dims=(10,5)\n",
    "    fig,ax = plt.subplots(1,2,figsize=dims)\n",
    "\n",
    "    for i in range(data.shape[0]):\n",
    "        ax[0].errorbar(x=i, y=data.loc[i,\"Coefficient\"],\n",
    "                    yerr=data.loc[i,\"Coefficient_std_error\"],\n",
    "                    fmt='o',\n",
    "                    capsize=5)\n",
    "    ax[0].set_xticks(range(0, data.shape[0]))\n",
    "    ax[0].set_xticklabels(data[\"Name\"],rotation=45)\n",
    "    ax[0].axhline(y=0, c='k', linestyle='--')\n",
    "    ax[0].set_ylabel(\"LDSC Coefficient (\"+label+\" GWAS)\", fontsize=10)\n",
    "    ax[0].set_xlabel(\"Satpathy scATAC cell type\", fontsize=10)\n",
    "    \n",
    "    for i in range(data.shape[0]):\n",
    "        ax[1].bar([i],\n",
    "            data.loc[i,\"logfdr\"])\n",
    "\n",
    "    ax[1].set_xticks(range(0, data.shape[0]))\n",
    "    ax[1].set_xticklabels(data[\"Name\"],rotation=45)\n",
    "    ax[1].axhline(y=-np.log10(0.05),c='k', linestyle='--')\n",
    "    \n",
    "    ax[1].set_ylabel(\"LDSC FDR -log10q (\"+label+\" GWAS)\", fontsize=10)\n",
    "    ax[1].set_xlabel(\"Satpathy scATAC cell type\", fontsize=10)\n",
    "    ax[1].set_ylim([0,2])\n",
    "\n",
    "    plt.tight_layout()\n",
    "    plt.savefig(label+\"_enrichments.svg\")\n",
    "    plt.close()"
   ]
  },
  {
   "cell_type": "code",
   "execution_count": 9,
   "metadata": {},
   "outputs": [],
   "source": [
    "plotData(jansen_data, \"Jansen\")"
   ]
  },
  {
   "cell_type": "code",
   "execution_count": 10,
   "metadata": {},
   "outputs": [],
   "source": [
    "plotData(kunkle_data, \"Kunkle\")"
   ]
  },
  {
   "cell_type": "code",
   "execution_count": null,
   "metadata": {},
   "outputs": [],
   "source": []
  }
 ],
 "metadata": {
  "kernelspec": {
   "display_name": "Python [conda env:data_analysis]",
   "language": "python",
   "name": "conda-env-data_analysis-py"
  },
  "language_info": {
   "codemirror_mode": {
    "name": "ipython",
    "version": 3
   },
   "file_extension": ".py",
   "mimetype": "text/x-python",
   "name": "python",
   "nbconvert_exporter": "python",
   "pygments_lexer": "ipython3",
   "version": "3.7.3"
  }
 },
 "nbformat": 4,
 "nbformat_minor": 2
}
