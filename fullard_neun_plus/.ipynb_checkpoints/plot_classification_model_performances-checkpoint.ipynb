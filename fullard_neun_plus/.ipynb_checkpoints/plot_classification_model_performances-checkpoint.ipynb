{
 "cells": [
  {
   "cell_type": "code",
   "execution_count": 2,
   "metadata": {
    "scrolled": true
   },
   "outputs": [
    {
     "name": "stderr",
     "output_type": "stream",
     "text": [
      "Using Theano backend.\n",
      "Can not use cuDNN on context None: cannot compile with cuDNN. We got this error:\n",
      "b'/tmp/try_flags_htx7sftv.c:4:10: fatal error: cudnn.h: No such file or directory\\n #include <cudnn.h>\\n          ^~~~~~~~~\\ncompilation terminated.\\n'\n",
      "Preallocating 10619/11178 Mb (0.950000) on cuda\n",
      "Mapped name None to device cuda: GeForce GTX 1080 Ti (0000:60:00.0)\n"
     ]
    }
   ],
   "source": [
    "import pandas as pd\n",
    "import numpy as np\n",
    "from keras.models import Sequential, load_model\n",
    "from scipy.stats import pearsonr, spearmanr, ttest_1samp, ttest_ind_from_stats\n",
    "from scipy.special import logit, expit\n",
    "from sklearn.metrics import auc,roc_curve,roc_auc_score, precision_recall_curve, average_precision_score, auc, balanced_accuracy_score, accuracy_score, classification_report\n",
    "import matplotlib.pyplot as plt\n",
    "from matplotlib import rcParams\n",
    "rcParams.update({'figure.autolayout': True})\n",
    "rcParams['svg.fonttype'] = 'none'\n",
    "rcParams['font.size']=15"
   ]
  },
  {
   "cell_type": "code",
   "execution_count": 3,
   "metadata": {},
   "outputs": [],
   "source": [
    "classification_model = load_model(\"/projects/pfenninggroup/machineLearningForComputationalBiology/eramamur_stuff/ml_gosselin_microglia/classification_model_4.hdf5\", compile = False)"
   ]
  },
  {
   "cell_type": "code",
   "execution_count": 5,
   "metadata": {},
   "outputs": [],
   "source": [
    "def evaluate_model(X,Y,model):\n",
    "    pred = model.predict_proba(X)\n",
    "    \n",
    "    fpr, tpr, thresholds = roc_curve(Y, pred, pos_label=1)\n",
    "    auRoc = auc(fpr, tpr)\n",
    "\n",
    "    precision, recall, thresholds = precision_recall_curve(Y,pred)\n",
    "    auPrc = auc(recall, precision)\n",
    "    averagePrecision = average_precision_score(Y, pred)\n",
    "    pred_binary = pred>0.5\n",
    "    balancedAccuracy = balanced_accuracy_score(Y, pred_binary)\n",
    "    \n",
    "    negativeClassTrue = []\n",
    "    negativeClassPred = []\n",
    "    positiveClassTrue = []\n",
    "    positiveClassPred = []\n",
    "    \n",
    "    for i, val in enumerate(Y):\n",
    "        currTrueLabel = Y[i]\n",
    "        currPred = pred_binary[i]\n",
    "        if currTrueLabel == 0:\n",
    "            negativeClassTrue.append(currTrueLabel)\n",
    "            negativeClassPred.append(currPred)\n",
    "        else:\n",
    "            positiveClassTrue.append(currTrueLabel)\n",
    "            positiveClassPred.append(currPred)            \n",
    "\n",
    "            \n",
    "    negativeClassTrue = np.array(negativeClassTrue)\n",
    "    negativeClassPred = np.array(negativeClassPred)\n",
    "    positiveClassTrue = np.array(positiveClassTrue)\n",
    "    positiveClassPred = np.array(positiveClassPred)\n",
    "    \n",
    "    negativeAccuracy = accuracy_score(negativeClassTrue, negativeClassPred)\n",
    "    positiveAccuracy = accuracy_score(positiveClassTrue, positiveClassPred)\n",
    "    \n",
    "    print(\"auROC:\",auRoc)\n",
    "    print(\"Average precision:\",averagePrecision)\n",
    "    print(\"auPRC:\",auPrc)\n",
    "    print(\"Balanced Accuracy:\",balancedAccuracy)\n",
    "    print(\"Positive Accuracy:\",positiveAccuracy)\n",
    "    print(\"Negative Accuracy:\",negativeAccuracy)\n",
    "    print(\"Classification Report:\")\n",
    "    print(classification_report(Y, pred_binary))\n",
    "    \n",
    "    plt.figure()\n",
    "\n",
    "    plt.plot(fpr, tpr)\n",
    "    plt.plot([0,1],[0,1],linestyle='--')\n",
    "    plt.title(\"ROC (AUC: \" +str(round(auRoc,2))+\")\")\n",
    "    plt.xlabel(\"False Positive Rate\")\n",
    "    plt.ylabel(\"True Positive Rate\")\n",
    "    plt.saveif()\n",
    "    \n",
    "    plt.figure()    \n",
    "    plt.step(recall, precision, color='b', alpha=0.2,where='post')\n",
    "    plt.fill_between(recall, precision, alpha=0.2, color='b')\n",
    "    plt.title(\"Precision-Recall (AUC: \" +str(round(auPrc,2))+\")\")\n",
    "    plt.xlabel('Recall')\n",
    "    plt.ylabel('Precision')\n",
    "    plt.ylim([0.0, 1.05])\n",
    "    plt.xlim([0.0, 1.0])\n",
    "    plt.show()\n"
   ]
  },
  {
   "cell_type": "code",
   "execution_count": 6,
   "metadata": {},
   "outputs": [],
   "source": [
    "#X_train = np.load('/projects/pfenninggroup/machineLearningForComputationalBiology/eramamur_stuff/ml_lcl/chrs_training_summit_centered_training_set_hg19_classification_X.npy')\n",
    "#Y_train = np.load('/projects/pfenninggroup/machineLearningForComputationalBiology/eramamur_stuff/ml_lcl/chrs_training_summit_centered_training_set_hg19_classification_Y.npy')\n",
    "X_valid = np.load('/projects/pfenninggroup/machineLearningForComputationalBiology/eramamur_stuff/ml_gosselin_microglia/chr4_summit_centered_validation_set_classification_X.npy')\n",
    "Y_valid = np.load('/projects/pfenninggroup/machineLearningForComputationalBiology/eramamur_stuff/ml_gosselin_microglia/chr4_summit_centered_validation_set_classification_Y.npy')"
   ]
  },
  {
   "cell_type": "code",
   "execution_count": null,
   "metadata": {},
   "outputs": [],
   "source": [
    "evaluate_model(X_valid,Y_valid,classification_model)"
   ]
  },
  {
   "cell_type": "code",
   "execution_count": null,
   "metadata": {},
   "outputs": [],
   "source": [
    "evaluate_model(X_train,Y_train,classification_model)"
   ]
  },
  {
   "cell_type": "code",
   "execution_count": null,
   "metadata": {},
   "outputs": [],
   "source": []
  }
 ],
 "metadata": {
  "kernelspec": {
   "display_name": "Python [conda env:gpu_keras_theano]",
   "language": "python",
   "name": "conda-env-gpu_keras_theano-py"
  },
  "language_info": {
   "codemirror_mode": {
    "name": "ipython",
    "version": 3
   },
   "file_extension": ".py",
   "mimetype": "text/x-python",
   "name": "python",
   "nbconvert_exporter": "python",
   "pygments_lexer": "ipython3",
   "version": "3.6.7"
  }
 },
 "nbformat": 4,
 "nbformat_minor": 2
}
