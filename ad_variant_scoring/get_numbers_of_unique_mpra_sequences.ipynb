{
 "cells": [
  {
   "cell_type": "code",
   "execution_count": 1,
   "metadata": {},
   "outputs": [],
   "source": [
    "import pandas as pd"
   ]
  },
  {
   "cell_type": "code",
   "execution_count": 2,
   "metadata": {},
   "outputs": [],
   "source": [
    "data = pd.read_csv(\"/projects/pfenninggroup/machineLearningForComputationalBiology/eramamur_stuff/ad_variants_processing/common_variants/mpra_sequences_table_all_experiments_overlapping.txt\",\n",
    "                   sep='\\t'\n",
    "                  )"
   ]
  },
  {
   "cell_type": "code",
   "execution_count": 4,
   "metadata": {},
   "outputs": [
    {
     "data": {
      "text/html": [
       "<div>\n",
       "<style scoped>\n",
       "    .dataframe tbody tr th:only-of-type {\n",
       "        vertical-align: middle;\n",
       "    }\n",
       "\n",
       "    .dataframe tbody tr th {\n",
       "        vertical-align: top;\n",
       "    }\n",
       "\n",
       "    .dataframe thead th {\n",
       "        text-align: right;\n",
       "    }\n",
       "</style>\n",
       "<table border=\"1\" class=\"dataframe\">\n",
       "  <thead>\n",
       "    <tr style=\"text-align: right;\">\n",
       "      <th></th>\n",
       "      <th>CHROM</th>\n",
       "      <th>RSID</th>\n",
       "      <th>SNPSTART</th>\n",
       "      <th>SNPEND</th>\n",
       "      <th>REF</th>\n",
       "      <th>ALT</th>\n",
       "      <th>EXPERIMENT</th>\n",
       "      <th>PEAKSTART</th>\n",
       "      <th>PEAKEND</th>\n",
       "      <th>SUMMIT</th>\n",
       "      <th>SUMMITZEROBASED</th>\n",
       "      <th>SUMMITREFSEQ</th>\n",
       "      <th>SUMMITALTSEQ</th>\n",
       "      <th>SNPREFSEQ</th>\n",
       "      <th>SNPALTSEQ</th>\n",
       "    </tr>\n",
       "  </thead>\n",
       "  <tbody>\n",
       "    <tr>\n",
       "      <th>0</th>\n",
       "      <td>chr2</td>\n",
       "      <td>rs6733839</td>\n",
       "      <td>127892809</td>\n",
       "      <td>127892810</td>\n",
       "      <td>C</td>\n",
       "      <td>T</td>\n",
       "      <td>corces_microglia</td>\n",
       "      <td>127891990</td>\n",
       "      <td>127893319</td>\n",
       "      <td>720</td>\n",
       "      <td>127892710</td>\n",
       "      <td>tcatcccctagagcaccctccgagcagacacacttggaggggcaga...</td>\n",
       "      <td>tcatcccctagagcaccctccgagcagacacacttggaggggcaga...</td>\n",
       "      <td>acttcttttattccctatgcatagccagtgacttacgctgactttt...</td>\n",
       "      <td>acttcttttattccctatgcatagccagtgacttacgctgactttt...</td>\n",
       "    </tr>\n",
       "    <tr>\n",
       "      <th>1</th>\n",
       "      <td>chr2</td>\n",
       "      <td>rs34779859</td>\n",
       "      <td>127892767</td>\n",
       "      <td>127892768</td>\n",
       "      <td>G</td>\n",
       "      <td>T</td>\n",
       "      <td>corces_microglia</td>\n",
       "      <td>127891990</td>\n",
       "      <td>127893319</td>\n",
       "      <td>720</td>\n",
       "      <td>127892710</td>\n",
       "      <td>tcatcccctagagcaccctccgagcagacacacttggaggggcaga...</td>\n",
       "      <td>tcatcccctagagcaccctccgagcagacacacttggaggggcaga...</td>\n",
       "      <td>gcagggaccccccaccccccgcccctgagccccactaagatgactt...</td>\n",
       "      <td>gcagggaccccccaccccccgcccctgagccccactaagatgactt...</td>\n",
       "    </tr>\n",
       "    <tr>\n",
       "      <th>2</th>\n",
       "      <td>chr1</td>\n",
       "      <td>rs4575098</td>\n",
       "      <td>161155391</td>\n",
       "      <td>161155392</td>\n",
       "      <td>G</td>\n",
       "      <td>A</td>\n",
       "      <td>corces_microglia</td>\n",
       "      <td>161155022</td>\n",
       "      <td>161156276</td>\n",
       "      <td>332</td>\n",
       "      <td>161155354</td>\n",
       "      <td>cccccctctttctgagcatttttagcactcgtggtttcctccagct...</td>\n",
       "      <td>cccccctctttctgagcatttttagcactcgtggtttcctccagct...</td>\n",
       "      <td>cctccagctgtcatctggtttctcgtggtgccaatgattttggctt...</td>\n",
       "      <td>cctccagctgtcatctggtttctcgtggtgccaatgattttggctt...</td>\n",
       "    </tr>\n",
       "    <tr>\n",
       "      <th>3</th>\n",
       "      <td>chr1</td>\n",
       "      <td>rs11585858</td>\n",
       "      <td>161156032</td>\n",
       "      <td>161156033</td>\n",
       "      <td>C</td>\n",
       "      <td>A</td>\n",
       "      <td>corces_microglia</td>\n",
       "      <td>161155022</td>\n",
       "      <td>161156276</td>\n",
       "      <td>965</td>\n",
       "      <td>161155987</td>\n",
       "      <td>cagatacttgaattgtttcagtgcctccttacttcctgttattact...</td>\n",
       "      <td>cagatacttgaattgtttcagtgcctccttacttcctgttattact...</td>\n",
       "      <td>tgtttctgttcctccttatatatctacaccccagctcaggcccacg...</td>\n",
       "      <td>tgtttctgttcctccttatatatctacaccccagctcaggcccacg...</td>\n",
       "    </tr>\n",
       "    <tr>\n",
       "      <th>4</th>\n",
       "      <td>chr2</td>\n",
       "      <td>rs10933431</td>\n",
       "      <td>233981911</td>\n",
       "      <td>233981912</td>\n",
       "      <td>G</td>\n",
       "      <td>C</td>\n",
       "      <td>corces_microglia</td>\n",
       "      <td>233981655</td>\n",
       "      <td>233982376</td>\n",
       "      <td>143</td>\n",
       "      <td>233981798</td>\n",
       "      <td>gctctagttacctacctgctaacgggcggaggcgttcactccaggg...</td>\n",
       "      <td>gctctagttacctacctgctaacgggcggaggcgttcactccaggg...</td>\n",
       "      <td>attgcggggatcatgtcccggctgacttgggccttcatggtttcct...</td>\n",
       "      <td>attgcggggatcatgtcccggctgacttgggccttcatggtttcct...</td>\n",
       "    </tr>\n",
       "  </tbody>\n",
       "</table>\n",
       "</div>"
      ],
      "text/plain": [
       "  CHROM        RSID   SNPSTART     SNPEND REF ALT        EXPERIMENT  \\\n",
       "0  chr2   rs6733839  127892809  127892810   C   T  corces_microglia   \n",
       "1  chr2  rs34779859  127892767  127892768   G   T  corces_microglia   \n",
       "2  chr1   rs4575098  161155391  161155392   G   A  corces_microglia   \n",
       "3  chr1  rs11585858  161156032  161156033   C   A  corces_microglia   \n",
       "4  chr2  rs10933431  233981911  233981912   G   C  corces_microglia   \n",
       "\n",
       "   PEAKSTART    PEAKEND  SUMMIT  SUMMITZEROBASED  \\\n",
       "0  127891990  127893319     720        127892710   \n",
       "1  127891990  127893319     720        127892710   \n",
       "2  161155022  161156276     332        161155354   \n",
       "3  161155022  161156276     965        161155987   \n",
       "4  233981655  233982376     143        233981798   \n",
       "\n",
       "                                        SUMMITREFSEQ  \\\n",
       "0  tcatcccctagagcaccctccgagcagacacacttggaggggcaga...   \n",
       "1  tcatcccctagagcaccctccgagcagacacacttggaggggcaga...   \n",
       "2  cccccctctttctgagcatttttagcactcgtggtttcctccagct...   \n",
       "3  cagatacttgaattgtttcagtgcctccttacttcctgttattact...   \n",
       "4  gctctagttacctacctgctaacgggcggaggcgttcactccaggg...   \n",
       "\n",
       "                                        SUMMITALTSEQ  \\\n",
       "0  tcatcccctagagcaccctccgagcagacacacttggaggggcaga...   \n",
       "1  tcatcccctagagcaccctccgagcagacacacttggaggggcaga...   \n",
       "2  cccccctctttctgagcatttttagcactcgtggtttcctccagct...   \n",
       "3  cagatacttgaattgtttcagtgcctccttacttcctgttattact...   \n",
       "4  gctctagttacctacctgctaacgggcggaggcgttcactccaggg...   \n",
       "\n",
       "                                           SNPREFSEQ  \\\n",
       "0  acttcttttattccctatgcatagccagtgacttacgctgactttt...   \n",
       "1  gcagggaccccccaccccccgcccctgagccccactaagatgactt...   \n",
       "2  cctccagctgtcatctggtttctcgtggtgccaatgattttggctt...   \n",
       "3  tgtttctgttcctccttatatatctacaccccagctcaggcccacg...   \n",
       "4  attgcggggatcatgtcccggctgacttgggccttcatggtttcct...   \n",
       "\n",
       "                                           SNPALTSEQ  \n",
       "0  acttcttttattccctatgcatagccagtgacttacgctgactttt...  \n",
       "1  gcagggaccccccaccccccgcccctgagccccactaagatgactt...  \n",
       "2  cctccagctgtcatctggtttctcgtggtgccaatgattttggctt...  \n",
       "3  tgtttctgttcctccttatatatctacaccccagctcaggcccacg...  \n",
       "4  attgcggggatcatgtcccggctgacttgggccttcatggtttcct...  "
      ]
     },
     "execution_count": 4,
     "metadata": {},
     "output_type": "execute_result"
    }
   ],
   "source": [
    "data.head()"
   ]
  },
  {
   "cell_type": "code",
   "execution_count": 17,
   "metadata": {},
   "outputs": [
    {
     "data": {
      "text/plain": [
       "(1179,)"
      ]
     },
     "execution_count": 17,
     "metadata": {},
     "output_type": "execute_result"
    }
   ],
   "source": [
    "data[\"SUMMITREFSEQ\"].append(data[\"SUMMITALTSEQ\"]).append(data[\"SNPREFSEQ\"]).append(data[\"SNPALTSEQ\"]).unique().shape"
   ]
  },
  {
   "cell_type": "code",
   "execution_count": 11,
   "metadata": {},
   "outputs": [
    {
     "data": {
      "text/plain": [
       "(525,)"
      ]
     },
     "execution_count": 11,
     "metadata": {},
     "output_type": "execute_result"
    }
   ],
   "source": [
    "data[\"SUMMITALTSEQ\"].unique().shape"
   ]
  },
  {
   "cell_type": "code",
   "execution_count": 12,
   "metadata": {},
   "outputs": [
    {
     "data": {
      "text/plain": [
       "(173,)"
      ]
     },
     "execution_count": 12,
     "metadata": {},
     "output_type": "execute_result"
    }
   ],
   "source": [
    "data[\"SNPREFSEQ\"].unique().shape"
   ]
  },
  {
   "cell_type": "code",
   "execution_count": 13,
   "metadata": {},
   "outputs": [
    {
     "data": {
      "text/plain": [
       "(176,)"
      ]
     },
     "execution_count": 13,
     "metadata": {},
     "output_type": "execute_result"
    }
   ],
   "source": [
    "data[\"SNPALTSEQ\"].unique().shape"
   ]
  },
  {
   "cell_type": "code",
   "execution_count": 16,
   "metadata": {},
   "outputs": [
    {
     "data": {
      "text/plain": [
       "(173,)"
      ]
     },
     "execution_count": 16,
     "metadata": {},
     "output_type": "execute_result"
    }
   ],
   "source": [
    "data[\"RSID\"].unique().shape"
   ]
  },
  {
   "cell_type": "code",
   "execution_count": null,
   "metadata": {},
   "outputs": [],
   "source": []
  }
 ],
 "metadata": {
  "kernelspec": {
   "display_name": "Python 3",
   "language": "python",
   "name": "python3"
  },
  "language_info": {
   "codemirror_mode": {
    "name": "ipython",
    "version": 3
   },
   "file_extension": ".py",
   "mimetype": "text/x-python",
   "name": "python",
   "nbconvert_exporter": "python",
   "pygments_lexer": "ipython3",
   "version": "3.6.10"
  }
 },
 "nbformat": 4,
 "nbformat_minor": 2
}
