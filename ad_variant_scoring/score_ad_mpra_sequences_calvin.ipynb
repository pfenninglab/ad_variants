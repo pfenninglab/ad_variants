{
 "cells": [
  {
   "cell_type": "code",
   "execution_count": 60,
   "metadata": {},
   "outputs": [],
   "source": [
    "from Bio import SeqIO\n",
    "\n",
    "import numpy as np\n",
    "import pandas as pd\n",
    "\n",
    "from tensorflow.keras.models import load_model"
   ]
  },
  {
   "cell_type": "code",
   "execution_count": 33,
   "metadata": {},
   "outputs": [],
   "source": [
    "def oneHotEncodeSequence(sequence):\n",
    "    oneHotDimension = (len(sequence), 4)\n",
    "    dnaAlphabet = {\"A\":0, \"G\":1, \"C\":2, \"T\":3}    \n",
    "    one_hot_encoded_sequence = np.zeros(oneHotDimension, dtype='int')\n",
    "    for i, nucleotide in enumerate(sequence):\n",
    "        if nucleotide.upper() in dnaAlphabet:\n",
    "            index = dnaAlphabet[nucleotide.upper()]\n",
    "            one_hot_encoded_sequence[i][index] = 1\n",
    "    return one_hot_encoded_sequence"
   ]
  },
  {
   "cell_type": "code",
   "execution_count": 34,
   "metadata": {},
   "outputs": [],
   "source": [
    "extraSeqLenLeft = len(\"GAGTCTGAACCTGTGTGCTA\")\n",
    "mpraSeqLen = 227\n",
    "panTissueControlLen = 224\n",
    "modelSeqLen = 1000"
   ]
  },
  {
   "cell_type": "code",
   "execution_count": 58,
   "metadata": {},
   "outputs": [],
   "source": [
    "one_hot_encoded_enhancer_sequences = []\n",
    "record_ids = []\n",
    "\n",
    "for record in SeqIO.parse(\"/projects/pfenninggroup/machineLearningForComputationalBiology/eramamur_stuff/ad_variants_processing/common_variants/AD_MPRA_2022.2.3.fasta\", \"fasta\"):\n",
    "    if(len(record.seq))==300:\n",
    "        enhancer_seq = record.seq[extraSeqLenLeft:extraSeqLenLeft+mpraSeqLen]\n",
    "\n",
    "    else:\n",
    "        assert(len(record.seq)==297)\n",
    "        enhancer_seq = record.seq[extraSeqLenLeft:extraSeqLenLeft+panTissueControlLen]\n",
    "        \n",
    "    leftWindowLen = (modelSeqLen - len(enhancer_seq))//2\n",
    "    rightWindowLen = modelSeqLen - len(enhancer_seq) - leftWindowLen\n",
    "    padded_enhancer_seq = \"N\"*leftWindowLen + enhancer_seq + \"N\"*rightWindowLen\n",
    "    one_hot_encoded_enhancer_seq = oneHotEncodeSequence(padded_enhancer_seq)\n",
    "    assert(one_hot_encoded_enhancer_seq.shape==(1000,4))\n",
    "    one_hot_encoded_enhancer_sequences.append(one_hot_encoded_enhancer_seq)\n",
    "    record_ids.append(record.id)\n",
    "one_hot_encoded_enhancer_sequences = np.stack(one_hot_encoded_enhancer_sequences)"
   ]
  },
  {
   "cell_type": "code",
   "execution_count": 57,
   "metadata": {},
   "outputs": [
    {
     "data": {
      "text/plain": [
       "(24000, 1000, 4)"
      ]
     },
     "execution_count": 57,
     "metadata": {},
     "output_type": "execute_result"
    }
   ],
   "source": [
    "one_hot_encoded_enhancer_sequences.shape"
   ]
  },
  {
   "cell_type": "code",
   "execution_count": 59,
   "metadata": {},
   "outputs": [],
   "source": [
    "regression_models = {\n",
    "                     \"Microglia\":        load_model(\"/projects/pfenninggroup/machineLearningForComputationalBiology/eramamur_stuff/ml_gosselin_microglia/model_7_tf.hdf5\", compile=False),\n",
    "                     \"Neuron\":           load_model(\"/projects/pfenninggroup/machineLearningForComputationalBiology/eramamur_stuff/ml_fullard_neun/model_2_tf.hdf5\", compile=False),\n",
    "                     \"Monocyte\":         load_model(\"/projects/pfenninggroup/machineLearningForComputationalBiology/eramamur_stuff/ml_monocyte/model_8_tf.hdf5\", compile=False),\n",
    "                    }"
   ]
  },
  {
   "cell_type": "code",
   "execution_count": 61,
   "metadata": {},
   "outputs": [],
   "source": [
    "scores_df = pd.DataFrame(columns = [\"record_id\"]+[celltype+\"_score\" for celltype in regression_models])"
   ]
  },
  {
   "cell_type": "code",
   "execution_count": 63,
   "metadata": {},
   "outputs": [],
   "source": [
    "scores_df[\"record_id\"] = record_ids"
   ]
  },
  {
   "cell_type": "code",
   "execution_count": 65,
   "metadata": {},
   "outputs": [],
   "source": [
    "for celltype, model in regression_models.items():\n",
    "    predictions = model.predict(one_hot_encoded_enhancer_sequences)\n",
    "    scores_df[celltype+\"_score\"] = predictions"
   ]
  },
  {
   "cell_type": "code",
   "execution_count": 70,
   "metadata": {},
   "outputs": [],
   "source": [
    "scores_df.to_csv(\"/projects/pfenninggroup/machineLearningForComputationalBiology/eramamur_stuff/ad_variants_processing/common_variants/AD_MPRA_2022.2.3_bulk_model_scores.txt\",\n",
    "                 sep='\\t',\n",
    "                 index=False\n",
    "                )"
   ]
  },
  {
   "cell_type": "code",
   "execution_count": null,
   "metadata": {},
   "outputs": [],
   "source": []
  }
 ],
 "metadata": {
  "kernelspec": {
   "display_name": "Python [conda env:keras_tf_new_mar_18_2021]",
   "language": "python",
   "name": "conda-env-keras_tf_new_mar_18_2021-py"
  },
  "language_info": {
   "codemirror_mode": {
    "name": "ipython",
    "version": 3
   },
   "file_extension": ".py",
   "mimetype": "text/x-python",
   "name": "python",
   "nbconvert_exporter": "python",
   "pygments_lexer": "ipython3",
   "version": "3.9.2"
  }
 },
 "nbformat": 4,
 "nbformat_minor": 2
}
