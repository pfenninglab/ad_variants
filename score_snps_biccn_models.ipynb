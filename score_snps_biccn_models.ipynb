{
 "cells": [
  {
   "cell_type": "code",
   "execution_count": 1,
   "metadata": {},
   "outputs": [],
   "source": [
    "import pandas as pd\n",
    "import copy\n",
    "import numpy as np\n",
    "from tensorflow.keras.models import Sequential, load_model\n",
    "from scipy.stats import pearsonr, spearmanr\n",
    "from scipy.special import logit\n",
    "import matplotlib.pyplot as plt\n",
    "from matplotlib import rcParams\n",
    "import matplotlib\n",
    "rcParams.update({'figure.autolayout': True})\n",
    "rcParams['svg.fonttype'] = 'none'\n",
    "rcParams['font.size']=10"
   ]
  },
  {
   "cell_type": "code",
   "execution_count": 2,
   "metadata": {},
   "outputs": [],
   "source": [
    "def shiftedColorMap(cmap, start=0, midpoint=0.5, stop=1.0, name='shiftedcmap'):\n",
    "    '''\n",
    "    Function to offset the \"center\" of a colormap. Useful for\n",
    "    data with a negative min and positive max and you want the\n",
    "    middle of the colormap's dynamic range to be at zero.\n",
    "\n",
    "    Input\n",
    "    -----\n",
    "      cmap : The matplotlib colormap to be altered\n",
    "      start : Offset from lowest point in the colormap's range.\n",
    "          Defaults to 0.0 (no lower offset). Should be between\n",
    "          0.0 and `midpoint`.\n",
    "      midpoint : The new center of the colormap. Defaults to\n",
    "          0.5 (no shift). Should be between 0.0 and 1.0. In\n",
    "          general, this should be  1 - vmax / (vmax + abs(vmin))\n",
    "          For example if your data range from -15.0 to +5.0 and\n",
    "          you want the center of the colormap at 0.0, `midpoint`\n",
    "          should be set to  1 - 5/(5 + 15)) or 0.75\n",
    "      stop : Offset from highest point in the colormap's range.\n",
    "          Defaults to 1.0 (no upper offset). Should be between\n",
    "          `midpoint` and 1.0.\n",
    "    '''\n",
    "    cdict = {\n",
    "        'red': [],\n",
    "        'green': [],\n",
    "        'blue': [],\n",
    "        'alpha': []\n",
    "    }\n",
    "\n",
    "    # regular index to compute the colors\n",
    "    reg_index = np.linspace(start, stop, 257)\n",
    "\n",
    "    # shifted index to match the data\n",
    "    shift_index = np.hstack([\n",
    "        np.linspace(0.0, midpoint, 128, endpoint=False),\n",
    "        np.linspace(midpoint, 1.0, 129, endpoint=True)\n",
    "    ])\n",
    "\n",
    "    for ri, si in zip(reg_index, shift_index):\n",
    "        r, g, b, a = cmap(ri)\n",
    "\n",
    "        cdict['red'].append((si, r, r))\n",
    "        cdict['green'].append((si, g, g))\n",
    "        cdict['blue'].append((si, b, b))\n",
    "        cdict['alpha'].append((si, a, a))\n",
    "\n",
    "    newcmap = matplotlib.colors.LinearSegmentedColormap(name, cdict)\n",
    "    plt.register_cmap(cmap=newcmap)\n",
    "\n",
    "    return newcmap"
   ]
  },
  {
   "cell_type": "code",
   "execution_count": 3,
   "metadata": {},
   "outputs": [],
   "source": [
    "celltypelist = [\"Astro\",\n",
    "                \"L2.3.IT\",\n",
    "                \"L5.6.NP\",\n",
    "                \"L5.ET\",\n",
    "                \"L5.IT\",\n",
    "                \"L6b\",\n",
    "                \"L6.CT\",\n",
    "                \"L6.IT\",\n",
    "                \"LAMP5\",\n",
    "                \"Micro.PVM\",\n",
    "                \"Oligo\",\n",
    "                \"OPC\",\n",
    "                \"PVALB\",\n",
    "                \"SST\",\n",
    "                \"VIP\"]"
   ]
  },
  {
   "cell_type": "code",
   "execution_count": 4,
   "metadata": {},
   "outputs": [],
   "source": [
    "def identify_model_cell_type(celltypelist, model_file_name):\n",
    "    for celltype in celltypelist:\n",
    "        if celltype in model_file_name:\n",
    "            return celltype"
   ]
  },
  {
   "cell_type": "code",
   "execution_count": 5,
   "metadata": {},
   "outputs": [],
   "source": [
    "model_file_names = dict()\n",
    "for celltype in celltypelist:\n",
    "    model_file_names[celltype] = []\n",
    "\n",
    "file_names_file = \"/projects/pfenninggroup/singleCell/BICCN_human_M1_SNARE-Seq2/ArchR_analyses/ml_models/cnn/eramamur_additional_files/best_cnn_model_file_names.txt\"\n",
    "with open(file_names_file, 'r') as f:\n",
    "    for line in f:\n",
    "        model_file_name = line.strip()\n",
    "        celltype = identify_model_cell_type(celltypelist, model_file_name)\n",
    "        model_file_names[celltype].append(model_file_name)"
   ]
  },
  {
   "cell_type": "code",
   "execution_count": 6,
   "metadata": {},
   "outputs": [],
   "source": [
    "def switch_g_c_channels(seq_array):\n",
    "    g_channel = copy.deepcopy(seq_array[:,:,1])\n",
    "    c_channel = copy.deepcopy(seq_array[:,:,2])\n",
    "    seq_array[:,:,1] = c_channel\n",
    "    seq_array[:,:,2] = g_channel\n",
    "    seq_array = np.expand_dims(seq_array, axis=3)\n",
    "    return seq_array"
   ]
  },
  {
   "cell_type": "code",
   "execution_count": 7,
   "metadata": {},
   "outputs": [],
   "source": [
    "snigdha_ad_ref_sequences = np.load(\"/projects/pfenninggroup/machineLearningForComputationalBiology/eramamur_stuff/ad_variants_processing/ref_501bp_sequences.npy\")\n",
    "snigdha_ad_alt_sequences = np.load(\"/projects/pfenninggroup/machineLearningForComputationalBiology/eramamur_stuff/ad_variants_processing/alt_501bp_sequences.npy\")"
   ]
  },
  {
   "cell_type": "code",
   "execution_count": 8,
   "metadata": {},
   "outputs": [],
   "source": [
    "snigdha_ad_ref_sequences = switch_g_c_channels(snigdha_ad_ref_sequences)\n",
    "snigdha_ad_alt_sequences = switch_g_c_channels(snigdha_ad_alt_sequences)"
   ]
  },
  {
   "cell_type": "code",
   "execution_count": 10,
   "metadata": {},
   "outputs": [],
   "source": [
    "snp_data = pd.read_csv(\"/projects/pfenninggroup/machineLearningForComputationalBiology/eramamur_stuff/ad_variants_processing/snigdha_snp_list_unique_haploreg_hg19_positions_1kb_and_500bp_sequences_microglia_monocyte_neuron_bulk_scores.txt\",\n",
    "                       sep='\\t')"
   ]
  },
  {
   "cell_type": "code",
   "execution_count": 14,
   "metadata": {},
   "outputs": [],
   "source": [
    "for celltype in celltypelist:\n",
    "    for i,modelfile in enumerate(model_file_names[celltype]):\n",
    "        model = load_model(modelfile, compile=False)\n",
    "        ad_snps_ref_sequences_scores = model.predict(snigdha_ad_ref_sequences)\n",
    "        ad_snps_alt_sequences_scores = model.predict(snigdha_ad_alt_sequences)\n",
    "        ad_snps_score = logit(ad_snps_ref_sequences_scores)-logit(ad_snps_alt_sequences_scores)\n",
    "        ad_snps_score = (ad_snps_score)/np.std(ad_snps_score)\n",
    "        snp_data[\"_\".join([celltype,\"fold\",str(i+1),\"ref\",\"score\"])] = ad_snps_ref_sequences_scores\n",
    "        snp_data[\"_\".join([celltype,\"fold\",str(i+1),\"alt\",\"score\"])] = ad_snps_alt_sequences_scores\n",
    "        snp_data[\"_\".join([celltype,\"fold\",str(i+1),\"score\"])] = ad_snps_score"
   ]
  },
  {
   "cell_type": "code",
   "execution_count": 20,
   "metadata": {},
   "outputs": [
    {
     "name": "stdout",
     "output_type": "stream",
     "text": [
      "(0.5670588598477109, 8.421950907940482e-104)\n",
      "SpearmanrResult(correlation=0.503773880787624, pvalue=8.511827478413399e-79)\n"
     ]
    },
    {
     "data": {
      "image/png": "[encoded data removed]",
      "text/plain": [
       "<Figure size 432x288 with 1 Axes>"
      ]
     },
     "metadata": {
      "needs_background": "light"
     },
     "output_type": "display_data"
    }
   ],
   "source": [
    "plt.scatter(snp_data[\"microglia_regression_effect_score\"], snp_data[\"Micro.PVM_fold_1_score\"])\n",
    "print(pearsonr(snp_data[\"microglia_regression_effect_score\"], snp_data[\"Micro.PVM_fold_1_score\"]))\n",
    "print(spearmanr(snp_data[\"microglia_regression_effect_score\"], snp_data[\"Micro.PVM_fold_1_score\"]))"
   ]
  },
  {
   "cell_type": "code",
   "execution_count": 21,
   "metadata": {},
   "outputs": [
    {
     "name": "stdout",
     "output_type": "stream",
     "text": [
      "(0.31830181479708053, 7.191914287990975e-30)\n",
      "SpearmanrResult(correlation=0.2567698053845888, pvalue=1.1756575147191571e-19)\n"
     ]
    },
    {
     "data": {
      "image/png": "[encoded data removed]",
      "text/plain": [
       "<Figure size 432x288 with 1 Axes>"
      ]
     },
     "metadata": {
      "needs_background": "light"
     },
     "output_type": "display_data"
    }
   ],
   "source": [
    "plt.scatter(snp_data[\"monocyte_regression_effect_score\"], snp_data[\"Micro.PVM_fold_1_score\"])\n",
    "print(pearsonr(snp_data[\"monocyte_regression_effect_score\"], snp_data[\"Micro.PVM_fold_1_score\"]))\n",
    "print(spearmanr(snp_data[\"monocyte_regression_effect_score\"], snp_data[\"Micro.PVM_fold_1_score\"]))"
   ]
  },
  {
   "cell_type": "code",
   "execution_count": 22,
   "metadata": {},
   "outputs": [
    {
     "name": "stdout",
     "output_type": "stream",
     "text": [
      "(0.1285757483067896, 7.302766840014076e-06)\n",
      "SpearmanrResult(correlation=0.08347783131152621, pvalue=0.00367664848882622)\n"
     ]
    },
    {
     "data": {
      "image/png": "[encoded data removed]",
      "text/plain": [
       "<Figure size 432x288 with 1 Axes>"
      ]
     },
     "metadata": {
      "needs_background": "light"
     },
     "output_type": "display_data"
    }
   ],
   "source": [
    "plt.scatter(snp_data[\"neuron_regression_effect_score\"], snp_data[\"Micro.PVM_fold_1_score\"])\n",
    "print(pearsonr(snp_data[\"neuron_regression_effect_score\"], snp_data[\"Micro.PVM_fold_1_score\"]))\n",
    "print(spearmanr(snp_data[\"neuron_regression_effect_score\"], snp_data[\"Micro.PVM_fold_1_score\"]))"
   ]
  },
  {
   "cell_type": "code",
   "execution_count": 26,
   "metadata": {},
   "outputs": [
    {
     "name": "stdout",
     "output_type": "stream",
     "text": [
      "(0.3342948947894314, 5.94500270684281e-33)\n",
      "SpearmanrResult(correlation=0.22580604264688106, pvalue=1.923914490464116e-15)\n"
     ]
    },
    {
     "data": {
      "image/png": "[encoded data removed]",
      "text/plain": [
       "<Figure size 432x288 with 1 Axes>"
      ]
     },
     "metadata": {
      "needs_background": "light"
     },
     "output_type": "display_data"
    }
   ],
   "source": [
    "plt.scatter(snp_data[\"neuron_regression_effect_score\"], snp_data[\"L2.3.IT_fold_1_score\"])\n",
    "print(pearsonr(snp_data[\"neuron_regression_effect_score\"], snp_data[\"L2.3.IT_fold_1_score\"]))\n",
    "print(spearmanr(snp_data[\"neuron_regression_effect_score\"], snp_data[\"L2.3.IT_fold_1_score\"]))"
   ]
  },
  {
   "cell_type": "code",
   "execution_count": 27,
   "metadata": {},
   "outputs": [
    {
     "name": "stdout",
     "output_type": "stream",
     "text": [
      "(0.3544722053492945, 4.12927307936155e-37)\n",
      "SpearmanrResult(correlation=0.2707781963043147, pvalue=9.243757489540309e-22)\n"
     ]
    },
    {
     "data": {
      "image/png": "[encoded data removed]",
      "text/plain": [
       "<Figure size 432x288 with 1 Axes>"
      ]
     },
     "metadata": {
      "needs_background": "light"
     },
     "output_type": "display_data"
    }
   ],
   "source": [
    "plt.scatter(snp_data[\"microglia_regression_effect_score\"], snp_data[\"L2.3.IT_fold_1_score\"])\n",
    "print(pearsonr(snp_data[\"microglia_regression_effect_score\"], snp_data[\"L2.3.IT_fold_1_score\"]))\n",
    "print(spearmanr(snp_data[\"microglia_regression_effect_score\"], snp_data[\"L2.3.IT_fold_1_score\"]))"
   ]
  },
  {
   "cell_type": "code",
   "execution_count": 28,
   "metadata": {},
   "outputs": [],
   "source": [
    "snp_data.to_csv(\"/projects/pfenninggroup/machineLearningForComputationalBiology/eramamur_stuff/ad_variants_processing/snigdha_snp_list_unique_haploreg_hg19_positions_1kb_and_500bp_sequences_microglia_monocyte_neuron_bulk_scores_and_biccn_classifiers_scores.txt\",\n",
    "                 sep='\\t',\n",
    "                 header=True,\n",
    "                 index=False)"
   ]
  }
 ],
 "metadata": {
  "kernelspec": {
   "display_name": "Python [conda env:keras_tf_new]",
   "language": "python",
   "name": "conda-env-keras_tf_new-py"
  },
  "language_info": {
   "codemirror_mode": {
    "name": "ipython",
    "version": 3
   },
   "file_extension": ".py",
   "mimetype": "text/x-python",
   "name": "python",
   "nbconvert_exporter": "python",
   "pygments_lexer": "ipython3",
   "version": "3.8.2"
  }
 },
 "nbformat": 4,
 "nbformat_minor": 2
}
