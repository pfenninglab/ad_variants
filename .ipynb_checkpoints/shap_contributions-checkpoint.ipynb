{
 "cells": [
  {
   "cell_type": "code",
   "execution_count": 1,
   "metadata": {},
   "outputs": [
    {
     "name": "stderr",
     "output_type": "stream",
     "text": [
      "/home/eramamur/bin/miniconda3/envs/keras_tf_new_mar_18_2021/lib/python3.9/site-packages/tqdm/auto.py:22: TqdmWarning: IProgress not found. Please update jupyter and ipywidgets. See https://ipywidgets.readthedocs.io/en/stable/user_install.html\n",
      "  from .autonotebook import tqdm as notebook_tqdm\n"
     ]
    }
   ],
   "source": [
    "import tensorflow as tf\n",
    "from tensorflow.keras.models import load_model\n",
    "from tensorflow.keras import backend as K\n",
    "from tensorflow.python.client import device_lib\n",
    "\n",
    "import shap\n",
    "\n",
    "import matplotlib.pyplot as plt\n",
    "import pandas as pd\n",
    "import numpy as np\n",
    "from scipy.stats import pearsonr\n",
    "\n",
    "import py2bit"
   ]
  },
  {
   "cell_type": "code",
   "execution_count": 2,
   "metadata": {},
   "outputs": [],
   "source": [
    "ad_snp_list_and_info = pd.read_csv(\"/projects/pfenninggroup/machineLearningForComputationalBiology/eramamur_stuff/ad_variants_processing/common_variants/snigdha_snp_list_unique_haploreg_hg19_positions.txt\",\n",
    "                                sep='\\t')"
   ]
  },
  {
   "cell_type": "code",
   "execution_count": 3,
   "metadata": {},
   "outputs": [],
   "source": [
    "leftWindow = 499\n",
    "rightWindow = 500"
   ]
  },
  {
   "cell_type": "code",
   "execution_count": 4,
   "metadata": {},
   "outputs": [],
   "source": [
    "def oneHotEncodeSequence(sequence):\n",
    "    oneHotDimension = (len(sequence), 4)\n",
    "    dnaAlphabet = {\"A\":0, \"G\":1, \"C\":2, \"T\":3}    \n",
    "    one_hot_encoded_sequence = np.zeros(oneHotDimension, dtype=int)\n",
    "    for i, nucleotide in enumerate(sequence):\n",
    "        if nucleotide.upper() in dnaAlphabet:\n",
    "            index = dnaAlphabet[nucleotide.upper()]\n",
    "            one_hot_encoded_sequence[i][index] = 1\n",
    "    return one_hot_encoded_sequence\n",
    "\n",
    "\n",
    "def getUpdatedPaddings(allele,left,right):\n",
    "    alleleLength = len(allele)\n",
    "    deductable = \"right\"\n",
    "    for i in range(alleleLength-1):\n",
    "        if deductable==\"right\":\n",
    "            right-=1\n",
    "            deductable=\"left\"\n",
    "        elif deductable==\"left\":\n",
    "            left-=1\n",
    "            deductable=\"right\"\n",
    "\n",
    "    return left,right"
   ]
  },
  {
   "cell_type": "code",
   "execution_count": 5,
   "metadata": {},
   "outputs": [],
   "source": [
    "genome_object = py2bit.open(\"/home/eramamur/resources/genomes/hg19/hg19.2bit\")"
   ]
  },
  {
   "cell_type": "code",
   "execution_count": 6,
   "metadata": {},
   "outputs": [],
   "source": [
    "ref_sequences_list = []\n",
    "alt_sequences_list = []"
   ]
  },
  {
   "cell_type": "code",
   "execution_count": 7,
   "metadata": {},
   "outputs": [],
   "source": [
    "for i,row in ad_snp_list_and_info.iterrows():\n",
    "    referenceLeftWindow, referenceRightWindow = getUpdatedPaddings(row[\"REF\"], leftWindow, rightWindow)\n",
    "    alternateLeftWindow, alternateRightWindow = getUpdatedPaddings(row[\"ALT\"], leftWindow, rightWindow)\n",
    "\n",
    "    referenceLeftSequence = genome_object.sequence(row[\"CHR\"],\n",
    "                                                   row[\"haploreg_hg19_pos\"]-1-referenceLeftWindow,\n",
    "                                                   row[\"haploreg_hg19_pos\"]-1\n",
    "                                                  )\n",
    "    referenceRightSequence = genome_object.sequence(row[\"CHR\"],\n",
    "                                                    row[\"haploreg_hg19_pos\"]-1+len(row[\"REF\"]),\n",
    "                                                    row[\"haploreg_hg19_pos\"]-1+len(row[\"REF\"])+referenceRightWindow\n",
    "                                                   )\n",
    "    referenceSequence = referenceLeftSequence.lower() + row[\"REF\"].upper() + referenceRightSequence.lower()\n",
    "\n",
    "    alternateLeftSequence = genome_object.sequence(row[\"CHR\"],\n",
    "                                                   row[\"haploreg_hg19_pos\"]-1-alternateLeftWindow,\n",
    "                                                   row[\"haploreg_hg19_pos\"]-1\n",
    "                                                  )\n",
    "    alternateRightSequence = genome_object.sequence(row[\"CHR\"],\n",
    "                                                    row[\"haploreg_hg19_pos\"]-1+len(row[\"REF\"]),\n",
    "                                                    row[\"haploreg_hg19_pos\"]-1+len(row[\"REF\"])+alternateRightWindow\n",
    "                                                   )\n",
    "    alternateSequence = alternateLeftSequence.lower() + row[\"ALT\"].upper() + alternateRightSequence.lower()\n",
    "    ref_sequences_list.append(referenceSequence)\n",
    "    alt_sequences_list.append(alternateSequence)"
   ]
  },
  {
   "cell_type": "code",
   "execution_count": 8,
   "metadata": {},
   "outputs": [],
   "source": [
    "microglia_overlap_info = np.loadtxt(\"/projects/pfenninggroup/machineLearningForComputationalBiology/eramamur_stuff/ad_variants_processing/common_variants/snigdha_snp_list_unique_gosselin_microglia_exvivo_idr_optimal_peak_liftover_hg38_to_hg19_overlap.simp.txt\",\n",
    "                                    dtype='int'\n",
    "                                   )\n",
    "monocyte_overlap_info = np.loadtxt(\"/projects/pfenninggroup/machineLearningForComputationalBiology/eramamur_stuff/ad_variants_processing/common_variants/snigdha_snp_list_unique_encode_monocyte_dhs_optimal_peak_liftover_hg38_to_hg19_overlap.simp.txt\",\n",
    "                                   dtype='int'\n",
    "                                  )\n",
    "neuron_overlap_info = np.loadtxt(\"/projects/pfenninggroup/machineLearningForComputationalBiology/eramamur_stuff/ad_variants_processing/common_variants/snigdha_snp_list_unique_fullard_neun_put_idr_optimal_peak_liftover_hg38_to_hg19_overlap.simp.txt\",\n",
    "                                 dtype='int'\n",
    "                                )"
   ]
  },
  {
   "cell_type": "code",
   "execution_count": 9,
   "metadata": {},
   "outputs": [],
   "source": [
    "ad_snp_list_and_info[\"REF_sequence_1kb\"] = ref_sequences_list\n",
    "ad_snp_list_and_info[\"ALT_sequence_1kb\"] = alt_sequences_list\n",
    "ad_snp_list_and_info[\"Microglia_overlap\"] = microglia_overlap_info\n",
    "ad_snp_list_and_info[\"Monocyte_overlap\"] = monocyte_overlap_info\n",
    "ad_snp_list_and_info[\"Neuron_overlap\"] = neuron_overlap_info"
   ]
  },
  {
   "cell_type": "code",
   "execution_count": 10,
   "metadata": {},
   "outputs": [],
   "source": [
    "monocyte_regression = load_model(\"/projects/pfenninggroup/machineLearningForComputationalBiology/eramamur_stuff/ml_monocyte/model_8_tf.hdf5\", compile = False)"
   ]
  },
  {
   "cell_type": "code",
   "execution_count": 11,
   "metadata": {},
   "outputs": [
    {
     "name": "stderr",
     "output_type": "stream",
     "text": [
      "Your TensorFlow version is newer than 2.4.0 and so graph support has been removed in eager mode. See PR #1483 for discussion.\n"
     ]
    }
   ],
   "source": [
    "e = shap.DeepExplainer(monocyte_regression, np.zeros((10,1000,4)))"
   ]
  },
  {
   "cell_type": "code",
   "execution_count": 12,
   "metadata": {},
   "outputs": [],
   "source": [
    "sig_snps = [\"rs636317\",\n",
    "            \"rs1010322\",\n",
    "            \"rs2526377\",\n",
    "            \"rs76726049\",\n",
    "            \"rs9270921\",\n",
    "            \"rs9271182\",\n",
    "            \"rs28834970\",\n",
    "            \"rs6064392\",\n",
    "            \"rs9271162\",\n",
    "            \"rs395601\"\n",
    "           ]"
   ]
  },
  {
   "cell_type": "code",
   "execution_count": 13,
   "metadata": {},
   "outputs": [],
   "source": [
    "sig_snps_info = ad_snp_list_and_info.loc[ad_snp_list_and_info[\"LD_RSID\"].isin(sig_snps)]"
   ]
  },
  {
   "cell_type": "code",
   "execution_count": 14,
   "metadata": {},
   "outputs": [
    {
     "data": {
      "text/html": [
       "<div>\n",
       "<style scoped>\n",
       "    .dataframe tbody tr th:only-of-type {\n",
       "        vertical-align: middle;\n",
       "    }\n",
       "\n",
       "    .dataframe tbody tr th {\n",
       "        vertical-align: top;\n",
       "    }\n",
       "\n",
       "    .dataframe thead th {\n",
       "        text-align: right;\n",
       "    }\n",
       "</style>\n",
       "<table border=\"1\" class=\"dataframe\">\n",
       "  <thead>\n",
       "    <tr style=\"text-align: right;\">\n",
       "      <th></th>\n",
       "      <th>CHR</th>\n",
       "      <th>haploreg_hg19_pos</th>\n",
       "      <th>LD_RSID</th>\n",
       "      <th>REF</th>\n",
       "      <th>ALT</th>\n",
       "      <th>REF_sequence_1kb</th>\n",
       "      <th>ALT_sequence_1kb</th>\n",
       "      <th>Microglia_overlap</th>\n",
       "      <th>Monocyte_overlap</th>\n",
       "      <th>Neuron_overlap</th>\n",
       "    </tr>\n",
       "  </thead>\n",
       "  <tbody>\n",
       "    <tr>\n",
       "      <th>178</th>\n",
       "      <td>chr11</td>\n",
       "      <td>60019150</td>\n",
       "      <td>rs636317</td>\n",
       "      <td>C</td>\n",
       "      <td>T</td>\n",
       "      <td>gtgtgtgtgtgtgtctctgccagattttggtatcaggatgatgctg...</td>\n",
       "      <td>gtgtgtgtgtgtgtctctgccagattttggtatcaggatgatgctg...</td>\n",
       "      <td>1</td>\n",
       "      <td>1</td>\n",
       "      <td>0</td>\n",
       "    </tr>\n",
       "    <tr>\n",
       "      <th>407</th>\n",
       "      <td>chr15</td>\n",
       "      <td>59063196</td>\n",
       "      <td>rs395601</td>\n",
       "      <td>G</td>\n",
       "      <td>C</td>\n",
       "      <td>tcccactccatgcaaagtgaagccaagttagcaaaaccgcaaagac...</td>\n",
       "      <td>tcccactccatgcaaagtgaagccaagttagcaaaaccgcaaagac...</td>\n",
       "      <td>1</td>\n",
       "      <td>1</td>\n",
       "      <td>1</td>\n",
       "    </tr>\n",
       "    <tr>\n",
       "      <th>451</th>\n",
       "      <td>chr17</td>\n",
       "      <td>47338083</td>\n",
       "      <td>rs1010322</td>\n",
       "      <td>C</td>\n",
       "      <td>G</td>\n",
       "      <td>gatccgccgcgacacagcagctattcagacgtcgggggcgggggcc...</td>\n",
       "      <td>gatccgccgcgacacagcagctattcagacgtcgggggcgggggcc...</td>\n",
       "      <td>1</td>\n",
       "      <td>1</td>\n",
       "      <td>0</td>\n",
       "    </tr>\n",
       "    <tr>\n",
       "      <th>562</th>\n",
       "      <td>chr17</td>\n",
       "      <td>56410041</td>\n",
       "      <td>rs2526377</td>\n",
       "      <td>A</td>\n",
       "      <td>G</td>\n",
       "      <td>gagacactggtcccacttctcagcctctgcgtaccctctgccatcc...</td>\n",
       "      <td>gagacactggtcccacttctcagcctctgcgtaccctctgccatcc...</td>\n",
       "      <td>1</td>\n",
       "      <td>1</td>\n",
       "      <td>0</td>\n",
       "    </tr>\n",
       "    <tr>\n",
       "      <th>579</th>\n",
       "      <td>chr18</td>\n",
       "      <td>56189459</td>\n",
       "      <td>rs76726049</td>\n",
       "      <td>T</td>\n",
       "      <td>C</td>\n",
       "      <td>agccattctcttgcctcagcctcctgagtagctgggattacaggtg...</td>\n",
       "      <td>agccattctcttgcctcagcctcctgagtagctgggattacaggtg...</td>\n",
       "      <td>0</td>\n",
       "      <td>1</td>\n",
       "      <td>0</td>\n",
       "    </tr>\n",
       "    <tr>\n",
       "      <th>632</th>\n",
       "      <td>chr20</td>\n",
       "      <td>54984768</td>\n",
       "      <td>rs6064392</td>\n",
       "      <td>G</td>\n",
       "      <td>T</td>\n",
       "      <td>tttttgtattttttgtagagatggggcttcgccatgttagccaggc...</td>\n",
       "      <td>tttttgtattttttgtagagatggggcttcgccatgttagccaggc...</td>\n",
       "      <td>1</td>\n",
       "      <td>1</td>\n",
       "      <td>0</td>\n",
       "    </tr>\n",
       "    <tr>\n",
       "      <th>889</th>\n",
       "      <td>chr6</td>\n",
       "      <td>32572326</td>\n",
       "      <td>rs9270921</td>\n",
       "      <td>C</td>\n",
       "      <td>T</td>\n",
       "      <td>gttaggctagagactcgccggggaacaggaactatcatgaataaca...</td>\n",
       "      <td>gttaggctagagactcgccggggaacaggaactatcatgaataaca...</td>\n",
       "      <td>0</td>\n",
       "      <td>1</td>\n",
       "      <td>0</td>\n",
       "    </tr>\n",
       "    <tr>\n",
       "      <th>1012</th>\n",
       "      <td>chr6</td>\n",
       "      <td>32577715</td>\n",
       "      <td>rs9271162</td>\n",
       "      <td>G</td>\n",
       "      <td>T</td>\n",
       "      <td>gtaggaggcgtagagaaaatataatgaaacgatatgtaagggaaac...</td>\n",
       "      <td>gtaggaggcgtagagaaaatataatgaaacgatatgtaagggaaac...</td>\n",
       "      <td>1</td>\n",
       "      <td>1</td>\n",
       "      <td>1</td>\n",
       "    </tr>\n",
       "    <tr>\n",
       "      <th>1025</th>\n",
       "      <td>chr6</td>\n",
       "      <td>32578230</td>\n",
       "      <td>rs9271182</td>\n",
       "      <td>A</td>\n",
       "      <td>G</td>\n",
       "      <td>ctccaaccaataggaatagagaatgaggcagcatcacttgtctcca...</td>\n",
       "      <td>ctccaaccaataggaatagagaatgaggcagcatcacttgtctcca...</td>\n",
       "      <td>0</td>\n",
       "      <td>1</td>\n",
       "      <td>0</td>\n",
       "    </tr>\n",
       "    <tr>\n",
       "      <th>1184</th>\n",
       "      <td>chr8</td>\n",
       "      <td>27195121</td>\n",
       "      <td>rs28834970</td>\n",
       "      <td>T</td>\n",
       "      <td>C</td>\n",
       "      <td>tttagtacgttcacagagttgtgcaaccatcaccgctttttttctt...</td>\n",
       "      <td>tttagtacgttcacagagttgtgcaaccatcaccgctttttttctt...</td>\n",
       "      <td>0</td>\n",
       "      <td>1</td>\n",
       "      <td>0</td>\n",
       "    </tr>\n",
       "  </tbody>\n",
       "</table>\n",
       "</div>"
      ],
      "text/plain": [
       "        CHR  haploreg_hg19_pos     LD_RSID REF ALT  \\\n",
       "178   chr11           60019150    rs636317   C   T   \n",
       "407   chr15           59063196    rs395601   G   C   \n",
       "451   chr17           47338083   rs1010322   C   G   \n",
       "562   chr17           56410041   rs2526377   A   G   \n",
       "579   chr18           56189459  rs76726049   T   C   \n",
       "632   chr20           54984768   rs6064392   G   T   \n",
       "889    chr6           32572326   rs9270921   C   T   \n",
       "1012   chr6           32577715   rs9271162   G   T   \n",
       "1025   chr6           32578230   rs9271182   A   G   \n",
       "1184   chr8           27195121  rs28834970   T   C   \n",
       "\n",
       "                                       REF_sequence_1kb  \\\n",
       "178   gtgtgtgtgtgtgtctctgccagattttggtatcaggatgatgctg...   \n",
       "407   tcccactccatgcaaagtgaagccaagttagcaaaaccgcaaagac...   \n",
       "451   gatccgccgcgacacagcagctattcagacgtcgggggcgggggcc...   \n",
       "562   gagacactggtcccacttctcagcctctgcgtaccctctgccatcc...   \n",
       "579   agccattctcttgcctcagcctcctgagtagctgggattacaggtg...   \n",
       "632   tttttgtattttttgtagagatggggcttcgccatgttagccaggc...   \n",
       "889   gttaggctagagactcgccggggaacaggaactatcatgaataaca...   \n",
       "1012  gtaggaggcgtagagaaaatataatgaaacgatatgtaagggaaac...   \n",
       "1025  ctccaaccaataggaatagagaatgaggcagcatcacttgtctcca...   \n",
       "1184  tttagtacgttcacagagttgtgcaaccatcaccgctttttttctt...   \n",
       "\n",
       "                                       ALT_sequence_1kb  Microglia_overlap  \\\n",
       "178   gtgtgtgtgtgtgtctctgccagattttggtatcaggatgatgctg...                  1   \n",
       "407   tcccactccatgcaaagtgaagccaagttagcaaaaccgcaaagac...                  1   \n",
       "451   gatccgccgcgacacagcagctattcagacgtcgggggcgggggcc...                  1   \n",
       "562   gagacactggtcccacttctcagcctctgcgtaccctctgccatcc...                  1   \n",
       "579   agccattctcttgcctcagcctcctgagtagctgggattacaggtg...                  0   \n",
       "632   tttttgtattttttgtagagatggggcttcgccatgttagccaggc...                  1   \n",
       "889   gttaggctagagactcgccggggaacaggaactatcatgaataaca...                  0   \n",
       "1012  gtaggaggcgtagagaaaatataatgaaacgatatgtaagggaaac...                  1   \n",
       "1025  ctccaaccaataggaatagagaatgaggcagcatcacttgtctcca...                  0   \n",
       "1184  tttagtacgttcacagagttgtgcaaccatcaccgctttttttctt...                  0   \n",
       "\n",
       "      Monocyte_overlap  Neuron_overlap  \n",
       "178                  1               0  \n",
       "407                  1               1  \n",
       "451                  1               0  \n",
       "562                  1               0  \n",
       "579                  1               0  \n",
       "632                  1               0  \n",
       "889                  1               0  \n",
       "1012                 1               1  \n",
       "1025                 1               0  \n",
       "1184                 1               0  "
      ]
     },
     "execution_count": 14,
     "metadata": {},
     "output_type": "execute_result"
    }
   ],
   "source": [
    "sig_snps_info"
   ]
  },
  {
   "cell_type": "code",
   "execution_count": 15,
   "metadata": {},
   "outputs": [],
   "source": [
    "rs76726049_ref_seq_1kb = oneHotEncodeSequence(sig_snps_info.loc[sig_snps_info[\"LD_RSID\"]==\"rs76726049\"][\"REF_sequence_1kb\"].item())\n",
    "rs76726049_alt_seq_1kb = oneHotEncodeSequence(sig_snps_info.loc[sig_snps_info[\"LD_RSID\"]==\"rs76726049\"][\"ALT_sequence_1kb\"].item())\n",
    "\n",
    "rs76726049_ref_alt_seq_1kb_pair = np.array([rs76726049_ref_seq_1kb, rs76726049_alt_seq_1kb])"
   ]
  },
  {
   "cell_type": "code",
   "execution_count": 16,
   "metadata": {},
   "outputs": [],
   "source": [
    "rs636317_ref_seq_1kb = oneHotEncodeSequence(sig_snps_info.loc[sig_snps_info[\"LD_RSID\"]==\"rs636317\"][\"REF_sequence_1kb\"].item())\n",
    "rs636317_alt_seq_1kb = oneHotEncodeSequence(sig_snps_info.loc[sig_snps_info[\"LD_RSID\"]==\"rs636317\"][\"ALT_sequence_1kb\"].item())\n",
    "\n",
    "rs636317_ref_alt_seq_1kb_pair = np.array([rs636317_ref_seq_1kb, rs636317_alt_seq_1kb])"
   ]
  },
  {
   "cell_type": "code",
   "execution_count": 17,
   "metadata": {},
   "outputs": [
    {
     "name": "stdout",
     "output_type": "stream",
     "text": [
      "WARNING:tensorflow:AutoGraph could not transform <function TFDeep.phi_symbolic.<locals>.grad_graph at 0x7fba8c79dee0> and will run it as-is.\n",
      "Please report this to the TensorFlow team. When filing the bug, set the verbosity to 10 (on Linux, `export AUTOGRAPH_VERBOSITY=10`) and attach the full output.\n",
      "Cause: module 'gast' has no attribute 'Index'\n",
      "To silence this warning, decorate the function with @tf.autograph.experimental.do_not_convert\n",
      "WARNING: AutoGraph could not transform <function TFDeep.phi_symbolic.<locals>.grad_graph at 0x7fba8c79dee0> and will run it as-is.\n",
      "Please report this to the TensorFlow team. When filing the bug, set the verbosity to 10 (on Linux, `export AUTOGRAPH_VERBOSITY=10`) and attach the full output.\n",
      "Cause: module 'gast' has no attribute 'Index'\n",
      "To silence this warning, decorate the function with @tf.autograph.experimental.do_not_convert\n"
     ]
    },
    {
     "name": "stderr",
     "output_type": "stream",
     "text": [
      "`tf.keras.backend.set_learning_phase` is deprecated and will be removed after 2020-10-11. To update it, simply pass a True/False value to the `training` argument of the `__call__` method of your layer or model.\n"
     ]
    }
   ],
   "source": [
    "rs76726049_shap_values = e.shap_values(rs76726049_ref_alt_seq_1kb_pair)\n",
    "rs636317_shap_values = e.shap_values(rs636317_ref_alt_seq_1kb_pair)"
   ]
  },
  {
   "cell_type": "code",
   "execution_count": 26,
   "metadata": {},
   "outputs": [
    {
     "data": {
      "image/png": "[encoded data removed]",
      "text/plain": [
       "<Figure size 1296x720 with 4 Axes>"
      ]
     },
     "metadata": {
      "needs_background": "light"
     },
     "output_type": "display_data"
    }
   ],
   "source": [
    "fig,ax=plt.subplots(4,1)\n",
    "fig.set_figheight(10)\n",
    "fig.set_figwidth(18)\n",
    "\n",
    "ax[0].imshow(np.abs(rs76726049_shap_values[0][0,400:600,:].T), aspect=\"auto\", cmap=\"viridis\")\n",
    "ax[1].imshow(rs76726049_ref_alt_seq_1kb_pair[0,400:600,:].T, aspect=\"auto\", cmap=\"Reds\")\n",
    "ax[2].imshow(np.abs(rs76726049_shap_values[0][1,400:600,:].T), aspect=\"auto\", cmap=\"viridis\")\n",
    "ax[3].imshow(rs76726049_ref_alt_seq_1kb_pair[1,400:600,:].T, aspect=\"auto\", cmap=\"Reds\")\n",
    "plt.savefig(\"rs76726049_shap_contributions_middle_200_bp.svg\")"
   ]
  },
  {
   "cell_type": "code",
   "execution_count": 19,
   "metadata": {},
   "outputs": [
    {
     "data": {
      "text/plain": [
       "array([[6.5130463],\n",
       "       [5.6627464]], dtype=float32)"
      ]
     },
     "execution_count": 19,
     "metadata": {},
     "output_type": "execute_result"
    }
   ],
   "source": [
    "monocyte_regression.predict(rs76726049_ref_alt_seq_1kb_pair)"
   ]
  },
  {
   "cell_type": "code",
   "execution_count": 20,
   "metadata": {},
   "outputs": [
    {
     "data": {
      "text/plain": [
       "'gagagctgaTgacgggcggc'"
      ]
     },
     "execution_count": 20,
     "metadata": {},
     "output_type": "execute_result"
    }
   ],
   "source": [
    "sig_snps_info.loc[sig_snps_info[\"LD_RSID\"]==\"rs76726049\"][\"REF_sequence_1kb\"].item()[490:510]"
   ]
  },
  {
   "cell_type": "code",
   "execution_count": 21,
   "metadata": {},
   "outputs": [
    {
     "data": {
      "text/plain": [
       "'gagagctgaCgacgggcggc'"
      ]
     },
     "execution_count": 21,
     "metadata": {},
     "output_type": "execute_result"
    }
   ],
   "source": [
    "sig_snps_info.loc[sig_snps_info[\"LD_RSID\"]==\"rs76726049\"][\"ALT_sequence_1kb\"].item()[490:510]"
   ]
  },
  {
   "cell_type": "code",
   "execution_count": 27,
   "metadata": {},
   "outputs": [
    {
     "data": {
      "image/png": "[encoded data removed]",
      "text/plain": [
       "<Figure size 1296x720 with 4 Axes>"
      ]
     },
     "metadata": {
      "needs_background": "light"
     },
     "output_type": "display_data"
    }
   ],
   "source": [
    "fig,ax=plt.subplots(4,1)\n",
    "fig.set_figheight(10)\n",
    "fig.set_figwidth(18)\n",
    "\n",
    "ax[0].imshow(np.abs(rs636317_shap_values[0][0,400:600,:].T), aspect=\"auto\", cmap=\"viridis\")\n",
    "ax[1].imshow(rs636317_ref_alt_seq_1kb_pair[0,400:600,:].T, aspect=\"auto\", cmap=\"Reds\")\n",
    "ax[2].imshow(np.abs(rs636317_shap_values[0][1,400:600,:].T), aspect=\"auto\", cmap=\"viridis\")\n",
    "ax[3].imshow(rs636317_ref_alt_seq_1kb_pair[1,400:600,:].T, aspect=\"auto\", cmap=\"Reds\")\n",
    "plt.savefig(\"rs636317_shap_contributions_middle_200_bp.svg\")"
   ]
  },
  {
   "cell_type": "code",
   "execution_count": 23,
   "metadata": {},
   "outputs": [
    {
     "data": {
      "text/plain": [
       "array([[7.8848634],\n",
       "       [5.5845947]], dtype=float32)"
      ]
     },
     "execution_count": 23,
     "metadata": {},
     "output_type": "execute_result"
    }
   ],
   "source": [
    "monocyte_regression.predict(rs636317_ref_alt_seq_1kb_pair)"
   ]
  },
  {
   "cell_type": "code",
   "execution_count": 24,
   "metadata": {},
   "outputs": [
    {
     "data": {
      "text/plain": [
       "'ctttgctgcCatctgctggg'"
      ]
     },
     "execution_count": 24,
     "metadata": {},
     "output_type": "execute_result"
    }
   ],
   "source": [
    "sig_snps_info.loc[sig_snps_info[\"LD_RSID\"]==\"rs636317\"][\"REF_sequence_1kb\"].item()[490:510]"
   ]
  },
  {
   "cell_type": "code",
   "execution_count": 25,
   "metadata": {},
   "outputs": [
    {
     "data": {
      "text/plain": [
       "'ctttgctgcTatctgctggg'"
      ]
     },
     "execution_count": 25,
     "metadata": {},
     "output_type": "execute_result"
    }
   ],
   "source": [
    "sig_snps_info.loc[sig_snps_info[\"LD_RSID\"]==\"rs636317\"][\"ALT_sequence_1kb\"].item()[490:510]"
   ]
  },
  {
   "cell_type": "code",
   "execution_count": null,
   "metadata": {},
   "outputs": [],
   "source": []
  }
 ],
 "metadata": {
  "kernelspec": {
   "display_name": "Python [conda env:keras_tf_new_mar_18_2021]",
   "language": "python",
   "name": "conda-env-keras_tf_new_mar_18_2021-py"
  },
  "language_info": {
   "codemirror_mode": {
    "name": "ipython",
    "version": 3
   },
   "file_extension": ".py",
   "mimetype": "text/x-python",
   "name": "python",
   "nbconvert_exporter": "python",
   "pygments_lexer": "ipython3",
   "version": "3.9.2"
  }
 },
 "nbformat": 4,
 "nbformat_minor": 2
}
