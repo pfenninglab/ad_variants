{
 "cells": [
  {
   "cell_type": "code",
   "execution_count": 1,
   "metadata": {},
   "outputs": [],
   "source": [
    "import matplotlib\n",
    "import matplotlib.pyplot as plt\n",
    "from matplotlib import rcParams\n",
    "rcParams.update({'figure.autolayout': True})\n",
    "rcParams['svg.fonttype'] = 'none'\n",
    "rcParams['font.size']=10\n",
    "import pandas as pd\n",
    "import numpy as np\n",
    "import math\n",
    "import matplotlib.patches as mpatches\n",
    "from statsmodels.stats.multitest import multipletests\n",
    "from seaborn import pointplot"
   ]
  },
  {
   "cell_type": "code",
   "execution_count": 27,
   "metadata": {},
   "outputs": [],
   "source": [
    "inFile = '/projects/pfenninggroup/machineLearningForComputationalBiology/eramamur_stuff/gwas_enrichments/roadmap_k27ac/jansen_enrichments.cell_type_results.txt'\n",
    "data = pd.read_csv(inFile, sep=\"\\t\", header=0)"
   ]
  },
  {
   "cell_type": "code",
   "execution_count": 28,
   "metadata": {},
   "outputs": [
    {
     "data": {
      "text/html": [
       "<div>\n",
       "<style scoped>\n",
       "    .dataframe tbody tr th:only-of-type {\n",
       "        vertical-align: middle;\n",
       "    }\n",
       "\n",
       "    .dataframe tbody tr th {\n",
       "        vertical-align: top;\n",
       "    }\n",
       "\n",
       "    .dataframe thead th {\n",
       "        text-align: right;\n",
       "    }\n",
       "</style>\n",
       "<table border=\"1\" class=\"dataframe\">\n",
       "  <thead>\n",
       "    <tr style=\"text-align: right;\">\n",
       "      <th></th>\n",
       "      <th>Name</th>\n",
       "      <th>Coefficient</th>\n",
       "      <th>Coefficient_std_error</th>\n",
       "      <th>Coefficient_P_value</th>\n",
       "    </tr>\n",
       "  </thead>\n",
       "  <tbody>\n",
       "    <tr>\n",
       "      <th>0</th>\n",
       "      <td>hpc_cases_Microglia</td>\n",
       "      <td>2.357838e-08</td>\n",
       "      <td>5.125273e-09</td>\n",
       "      <td>0.000002</td>\n",
       "    </tr>\n",
       "    <tr>\n",
       "      <th>1</th>\n",
       "      <td>hpc_controls_Microglia</td>\n",
       "      <td>2.490200e-08</td>\n",
       "      <td>5.522296e-09</td>\n",
       "      <td>0.000003</td>\n",
       "    </tr>\n",
       "    <tr>\n",
       "      <th>2</th>\n",
       "      <td>E029-H3K27ac</td>\n",
       "      <td>5.051488e-08</td>\n",
       "      <td>1.370685e-08</td>\n",
       "      <td>0.000114</td>\n",
       "    </tr>\n",
       "    <tr>\n",
       "      <th>3</th>\n",
       "      <td>E124-H3K27ac</td>\n",
       "      <td>2.272268e-08</td>\n",
       "      <td>6.437006e-09</td>\n",
       "      <td>0.000208</td>\n",
       "    </tr>\n",
       "    <tr>\n",
       "      <th>4</th>\n",
       "      <td>E113-H3K27ac</td>\n",
       "      <td>4.492922e-08</td>\n",
       "      <td>1.421753e-08</td>\n",
       "      <td>0.000788</td>\n",
       "    </tr>\n",
       "  </tbody>\n",
       "</table>\n",
       "</div>"
      ],
      "text/plain": [
       "                     Name   Coefficient  Coefficient_std_error  \\\n",
       "0     hpc_cases_Microglia  2.357838e-08           5.125273e-09   \n",
       "1  hpc_controls_Microglia  2.490200e-08           5.522296e-09   \n",
       "2            E029-H3K27ac  5.051488e-08           1.370685e-08   \n",
       "3            E124-H3K27ac  2.272268e-08           6.437006e-09   \n",
       "4            E113-H3K27ac  4.492922e-08           1.421753e-08   \n",
       "\n",
       "   Coefficient_P_value  \n",
       "0             0.000002  \n",
       "1             0.000003  \n",
       "2             0.000114  \n",
       "3             0.000208  \n",
       "4             0.000788  "
      ]
     },
     "execution_count": 28,
     "metadata": {},
     "output_type": "execute_result"
    }
   ],
   "source": [
    "data.head()"
   ]
  },
  {
   "cell_type": "code",
   "execution_count": 29,
   "metadata": {},
   "outputs": [],
   "source": [
    "data[\"Name\"] = [val.replace(\"-H3K27ac\",\"\") for val in data[\"Name\"]]\n",
    "data[\"logpval\"] = [-math.log(val, 10) for val in data[\"Coefficient_P_value\"]]\n",
    "data[\"fdr\"] = multipletests(data[\"Coefficient_P_value\"],\n",
    "                            alpha=0.05,\n",
    "                            method='fdr_bh')[1]\n",
    "\n",
    "data[\"logfdr\"] = [-math.log(val, 10) for val in data[\"fdr\"]]\n",
    "\n",
    "encodeCellTypeMappingFile = '/projects/pfenninggroup/jemmie/gwyn_hpc_3exphg/gwas_enrichment_analysis/permutation_test/dlpfc_hpc_stratified_and_roadmap_analysis/encode_category_mapping_other.csv'\n",
    "cellTypeMapping = pd.read_csv(encodeCellTypeMappingFile, sep=\",\", header=None)\n",
    "cellTypeMapping.columns = [\"cell_type\", \"category\"]\n",
    "\n",
    "newCellTypeMapping = pd.DataFrame([[\"dlpfc_controls_Microglia\", \"BRN_NEW\"],\n",
    "                                   [\"dlpfc_controls_Glia\", \"BRN_NEW\"],\n",
    "                                   [\"dlpfc_controls_Neuron\", \"BRN_NEW\"],\n",
    "                                   [\"dlpfc_cases_Microglia\", \"BRN_NEW\"],\n",
    "                                   [\"dlpfc_cases_Glia\", \"BRN_NEW\"],\n",
    "                                   [\"dlpfc_cases_Neuron\", \"BRN_NEW\"],\n",
    "                                   [\"hpc_controls_Microglia\", \"BRN_NEW\"],\n",
    "                                   [\"hpc_controls_Glia\", \"BRN_NEW\"],\n",
    "                                   [\"hpc_controls_Neuron\", \"BRN_NEW\"],\n",
    "                                   [\"hpc_cases_Microglia\", \"BRN_NEW\"],\n",
    "                                   [\"hpc_cases_Glia\", \"BRN_NEW\"],\n",
    "                                   [\"hpc_cases_Neuron\", \"BRN_NEW\"]],\n",
    "                                   columns = cellTypeMapping.columns)\n",
    "cellTypeMapping = cellTypeMapping.append(newCellTypeMapping)\n",
    "data = data.merge(cellTypeMapping, left_on='Name', right_on='cell_type', validate='one_to_one')\n",
    "\n",
    "sortOrderMapping = {\"BLD\": 1, \"BRN_NEW\": 2, \"BRN\": 3, \"OTH\": 4}\n",
    "data[\"category_order\"] = [sortOrderMapping[category] for category in data[\"category\"]]"
   ]
  },
  {
   "cell_type": "code",
   "execution_count": 30,
   "metadata": {},
   "outputs": [],
   "source": [
    "colorDict = dict()\n",
    "valueDict = dict()\n",
    "categories = set(data[\"category\"])\n",
    "colors = matplotlib.cm.viridis(np.linspace(0, 1, len(categories)))\n",
    "\n",
    "i=0\n",
    "for category in categories:\n",
    "    colorDict[category] = colors[i]\n",
    "    i+=1\n",
    "\n",
    "\n",
    "nameMapping = {\"BRN\": \"Brain\",\"BLD\": \"Blood\", \"BRN_NEW\": \"Brain New\", \"OTH\": \"Other\"}"
   ]
  },
  {
   "cell_type": "code",
   "execution_count": 31,
   "metadata": {},
   "outputs": [],
   "source": [
    "data = data.sort_values(['category_order', 'logfdr'], ascending=[True,False])\n",
    "newData=data.reset_index()\n",
    "dims = (10, 8)\n",
    "fig,ax = plt.subplots(figsize=dims)\n",
    "plt.tick_params(labelsize=20, labeltop=False, labelbottom=False)\n",
    "\n",
    "\n",
    "for i in range(newData.shape[0]):\n",
    "    plt.errorbar(x=i, y=newData.loc[i,\"Coefficient\"],\n",
    "                yerr=newData.loc[i,\"Coefficient_std_error\"],\n",
    "                fmt='o',\n",
    "                capsize=5,\n",
    "                color=colorDict[newData.loc[i,\"category\"]],\n",
    "                ecolor=colorDict[newData.loc[i,\"category\"]])\n",
    "\n",
    "plt.ylabel(\"LDSC Coefficient (Jansen GWAS)\", fontsize=30)\n",
    "plt.xlabel(\"Epigenome Roadmap cell type (DNase)\", fontsize=30)\n",
    "legendItems = [mpatches.Patch(color=colorDict[category], label=nameMapping[category]) for category in set(list(newData[\"category\"]))]\n",
    "plt.legend(handles=legendItems, fontsize=15, loc='upper right')\n",
    "plt.axhline(0,linestyle='--',c='k')\n",
    "plt.tight_layout()\n",
    "plt.savefig(\"roadmap_and_tsai_k27ac_jansen_coefficient.svg\")\n",
    "plt.close()"
   ]
  },
  {
   "cell_type": "code",
   "execution_count": 32,
   "metadata": {},
   "outputs": [
    {
     "data": {
      "image/png": "[encoded data removed]",
      "text/plain": [
       "<Figure size 720x576 with 1 Axes>"
      ]
     },
     "metadata": {
      "needs_background": "light"
     },
     "output_type": "display_data"
    }
   ],
   "source": [
    "data = data.sort_values(['category_order', 'logfdr'], ascending=[True,False])\n",
    "newData=data.reset_index()\n",
    "dims = (10, 8)\n",
    "fig,ax = plt.subplots(figsize=dims)\n",
    "plt.tick_params(labelsize=20, labeltop=False, labelbottom=False)\n",
    "\n",
    "\n",
    "plt.bar(range(newData.shape[0]),\n",
    "        newData[\"logfdr\"],\n",
    "        color=[colorDict[val] for val in newData[\"category\"]])\n",
    "plt.axhline(y=-np.log10(0.05),linestyle='--',c='k')\n",
    "\n",
    "plt.ylabel(\"LDSC FDR -log10q (Jansen GWAS)\", fontsize=30)\n",
    "plt.xlabel(\"Epigenome Roadmap cell type (DNase)\", fontsize=30)\n",
    "legendItems = [mpatches.Patch(color=colorDict[category], label=nameMapping[category]) for category in set(list(newData[\"category\"]))]\n",
    "plt.legend(handles=legendItems, fontsize=15, loc='upper right')\n",
    "plt.tight_layout()\n",
    "plt.savefig(\"roadmap_and_tsai_k27ac_jansen_pval.svg\")"
   ]
  },
  {
   "cell_type": "code",
   "execution_count": null,
   "metadata": {},
   "outputs": [],
   "source": []
  }
 ],
 "metadata": {
  "kernelspec": {
   "display_name": "Python [conda env:data_analysis]",
   "language": "python",
   "name": "conda-env-data_analysis-py"
  },
  "language_info": {
   "codemirror_mode": {
    "name": "ipython",
    "version": 3
   },
   "file_extension": ".py",
   "mimetype": "text/x-python",
   "name": "python",
   "nbconvert_exporter": "python",
   "pygments_lexer": "ipython3",
   "version": "3.7.3"
  }
 },
 "nbformat": 4,
 "nbformat_minor": 2
}
