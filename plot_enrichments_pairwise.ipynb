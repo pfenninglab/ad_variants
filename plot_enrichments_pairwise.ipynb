{
 "cells": [
  {
   "cell_type": "code",
   "execution_count": 13,
   "metadata": {},
   "outputs": [],
   "source": [
    "import matplotlib\n",
    "import matplotlib.pyplot as plt\n",
    "from matplotlib import rcParams\n",
    "rcParams.update({'figure.autolayout': True})\n",
    "rcParams['svg.fonttype'] = 'none'\n",
    "rcParams['font.size']=10\n",
    "import pandas as pd\n",
    "import numpy as np\n",
    "import math\n",
    "import matplotlib.patches as mpatches\n",
    "from statsmodels.stats.multitest import multipletests\n",
    "from seaborn import pointplot"
   ]
  },
  {
   "cell_type": "code",
   "execution_count": 14,
   "metadata": {},
   "outputs": [],
   "source": [
    "inFile = '/projects/pfenninggroup/machineLearningForComputationalBiology/eramamur_stuff/gwas_enrichments/monocyte_microglia/kunkle_enrichments.cell_type_results.txt'\n",
    "kunkle_data = pd.read_csv(inFile, sep=\"\\t\", header=0)"
   ]
  },
  {
   "cell_type": "code",
   "execution_count": 15,
   "metadata": {},
   "outputs": [],
   "source": [
    "inFile = '/projects/pfenninggroup/machineLearningForComputationalBiology/eramamur_stuff/gwas_enrichments/monocyte_microglia/jansen_enrichments.cell_type_results.txt'\n",
    "jansen_data = pd.read_csv(inFile, sep=\"\\t\", header=0)"
   ]
  },
  {
   "cell_type": "code",
   "execution_count": 16,
   "metadata": {},
   "outputs": [
    {
     "data": {
      "text/html": [
       "<div>\n",
       "<style scoped>\n",
       "    .dataframe tbody tr th:only-of-type {\n",
       "        vertical-align: middle;\n",
       "    }\n",
       "\n",
       "    .dataframe tbody tr th {\n",
       "        vertical-align: top;\n",
       "    }\n",
       "\n",
       "    .dataframe thead th {\n",
       "        text-align: right;\n",
       "    }\n",
       "</style>\n",
       "<table border=\"1\" class=\"dataframe\">\n",
       "  <thead>\n",
       "    <tr style=\"text-align: right;\">\n",
       "      <th></th>\n",
       "      <th>Name</th>\n",
       "      <th>Coefficient</th>\n",
       "      <th>Coefficient_std_error</th>\n",
       "      <th>Coefficient_P_value</th>\n",
       "    </tr>\n",
       "  </thead>\n",
       "  <tbody>\n",
       "    <tr>\n",
       "      <th>0</th>\n",
       "      <td>gosselin_microglia</td>\n",
       "      <td>4.415073e-08</td>\n",
       "      <td>3.694149e-08</td>\n",
       "      <td>0.116014</td>\n",
       "    </tr>\n",
       "    <tr>\n",
       "      <th>1</th>\n",
       "      <td>monocyte_dnase</td>\n",
       "      <td>1.042658e-08</td>\n",
       "      <td>2.829146e-08</td>\n",
       "      <td>0.356235</td>\n",
       "    </tr>\n",
       "  </tbody>\n",
       "</table>\n",
       "</div>"
      ],
      "text/plain": [
       "                 Name   Coefficient  Coefficient_std_error  \\\n",
       "0  gosselin_microglia  4.415073e-08           3.694149e-08   \n",
       "1      monocyte_dnase  1.042658e-08           2.829146e-08   \n",
       "\n",
       "   Coefficient_P_value  \n",
       "0             0.116014  \n",
       "1             0.356235  "
      ]
     },
     "execution_count": 16,
     "metadata": {},
     "output_type": "execute_result"
    }
   ],
   "source": [
    "jansen_data.head()"
   ]
  },
  {
   "cell_type": "code",
   "execution_count": 17,
   "metadata": {},
   "outputs": [
    {
     "data": {
      "text/html": [
       "<div>\n",
       "<style scoped>\n",
       "    .dataframe tbody tr th:only-of-type {\n",
       "        vertical-align: middle;\n",
       "    }\n",
       "\n",
       "    .dataframe tbody tr th {\n",
       "        vertical-align: top;\n",
       "    }\n",
       "\n",
       "    .dataframe thead th {\n",
       "        text-align: right;\n",
       "    }\n",
       "</style>\n",
       "<table border=\"1\" class=\"dataframe\">\n",
       "  <thead>\n",
       "    <tr style=\"text-align: right;\">\n",
       "      <th></th>\n",
       "      <th>Name</th>\n",
       "      <th>Coefficient</th>\n",
       "      <th>Coefficient_std_error</th>\n",
       "      <th>Coefficient_P_value</th>\n",
       "    </tr>\n",
       "  </thead>\n",
       "  <tbody>\n",
       "    <tr>\n",
       "      <th>0</th>\n",
       "      <td>monocyte_dnase</td>\n",
       "      <td>2.954993e-07</td>\n",
       "      <td>1.438036e-07</td>\n",
       "      <td>0.019945</td>\n",
       "    </tr>\n",
       "    <tr>\n",
       "      <th>1</th>\n",
       "      <td>gosselin_microglia</td>\n",
       "      <td>-1.202519e-07</td>\n",
       "      <td>1.598233e-07</td>\n",
       "      <td>0.774096</td>\n",
       "    </tr>\n",
       "  </tbody>\n",
       "</table>\n",
       "</div>"
      ],
      "text/plain": [
       "                 Name   Coefficient  Coefficient_std_error  \\\n",
       "0      monocyte_dnase  2.954993e-07           1.438036e-07   \n",
       "1  gosselin_microglia -1.202519e-07           1.598233e-07   \n",
       "\n",
       "   Coefficient_P_value  \n",
       "0             0.019945  \n",
       "1             0.774096  "
      ]
     },
     "execution_count": 17,
     "metadata": {},
     "output_type": "execute_result"
    }
   ],
   "source": [
    "kunkle_data.head()"
   ]
  },
  {
   "cell_type": "code",
   "execution_count": 18,
   "metadata": {},
   "outputs": [
    {
     "data": {
      "image/png": "[encoded data removed]",
      "text/plain": [
       "<Figure size 432x288 with 1 Axes>"
      ]
     },
     "metadata": {
      "needs_background": "light"
     },
     "output_type": "display_data"
    }
   ],
   "source": [
    "dims = (20, 16)\n",
    "plt.errorbar([0,1], y=jansen_data[\"Coefficient\"],\n",
    "                yerr=jansen_data[\"Coefficient_std_error\"],\n",
    "                fmt='o',\n",
    "                capsize=5,\n",
    "                ecolor='red',\n",
    "                markerfacecolor='red',\n",
    "                markeredgecolor='red')\n",
    "\n",
    "plt.axhline(y=0,linestyle='--', c='k')\n",
    "\n",
    "jansen_p_values = list(jansen_data[\"Coefficient_P_value\"])\n",
    "jansen_p_values = [round(val,2) for val in jansen_p_values]\n",
    "\n",
    "\n",
    "plt.text(0,\n",
    "         9e-8,\n",
    "         \"p=\"+str(jansen_p_values[0]),\n",
    "         fontsize=10,\n",
    "         ha='center')\n",
    "plt.text(1,\n",
    "         9e-8,\n",
    "         \"p=\"+str(jansen_p_values[1]),\n",
    "         fontsize=10,\n",
    "         ha='center')\n",
    "\n",
    "plt.xlim([-1,2])\n",
    "plt.ylim([-3e-8,10e-8])\n",
    "\n",
    "plt.ylabel(\"LDSC Coefficient\\n(Jansen GWAS)\", fontsize=10)\n",
    "plt.xlim(-1,2)\n",
    "plt.xticks([0,1])\n",
    "plt.set_xticklabels(\"\")\n",
    "plt.tight_layout()\n",
    "plt.savefig(\"monocyte_microglia_pairwise_jansen.svg\")"
   ]
  },
  {
   "cell_type": "code",
   "execution_count": 19,
   "metadata": {},
   "outputs": [
    {
     "data": {
      "image/png": "[encoded data removed]",
      "text/plain": [
       "<Figure size 432x288 with 1 Axes>"
      ]
     },
     "metadata": {
      "needs_background": "light"
     },
     "output_type": "display_data"
    }
   ],
   "source": [
    "dims = (20, 16)\n",
    "plt.errorbar([0,1], y=kunkle_data[\"Coefficient\"],\n",
    "                yerr=kunkle_data[\"Coefficient_std_error\"],\n",
    "                fmt='o',\n",
    "                capsize=5,\n",
    "                ecolor='red',\n",
    "                markerfacecolor='red',\n",
    "                markeredgecolor='red')\n",
    "\n",
    "kunkle_p_values = list(kunkle_data[\"Coefficient_P_value\"])\n",
    "kunkle_p_values = [round(val,2) for val in kunkle_p_values]\n",
    "\n",
    "\n",
    "plt.text(0,\n",
    "         5e-7,\n",
    "         \"p=\"+str(kunkle_p_values[0]),\n",
    "         fontsize=10,\n",
    "         ha='center')\n",
    "plt.text(1,\n",
    "         5e-7,\n",
    "         \"p=\"+str(kunkle_p_values[1]),\n",
    "         fontsize=10,\n",
    "         ha='center')\n",
    "\n",
    "plt.xlim([-1,2])\n",
    "plt.ylim([-3e-7,6e-7])\n",
    "plt.axhline(y=0,linestyle='--', c='k')\n",
    "plt.ylabel(\"LDSC Coefficient\\n(Kunkle GWAS)\", fontsize=10)\n",
    "plt.tight_layout()\n",
    "plt.savefig(\"monocyte_microglia_pairwise_kunkle.svg\")"
   ]
  },
  {
   "cell_type": "code",
   "execution_count": null,
   "metadata": {},
   "outputs": [],
   "source": []
  }
 ],
 "metadata": {
  "kernelspec": {
   "display_name": "Python [conda env:data_analysis]",
   "language": "python",
   "name": "conda-env-data_analysis-py"
  },
  "language_info": {
   "codemirror_mode": {
    "name": "ipython",
    "version": 3
   },
   "file_extension": ".py",
   "mimetype": "text/x-python",
   "name": "python",
   "nbconvert_exporter": "python",
   "pygments_lexer": "ipython3",
   "version": "3.7.3"
  }
 },
 "nbformat": 4,
 "nbformat_minor": 2
}
