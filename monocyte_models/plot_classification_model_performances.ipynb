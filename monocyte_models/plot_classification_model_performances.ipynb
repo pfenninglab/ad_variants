{
 "cells": [
  {
   "cell_type": "code",
   "execution_count": 1,
   "metadata": {
    "scrolled": true
   },
   "outputs": [
    {
     "name": "stderr",
     "output_type": "stream",
     "text": [
      "Using Theano backend.\n",
      "Can not use cuDNN on context None: cannot compile with cuDNN. We got this error:\n",
      "b'/tmp/try_flags_sqclvfux.c:4:10: fatal error: cudnn.h: No such file or directory\\n #include <cudnn.h>\\n          ^~~~~~~~~\\ncompilation terminated.\\n'\n",
      "Preallocating 10619/11178 Mb (0.950000) on cuda\n",
      "Mapped name None to device cuda: GeForce GTX 1080 Ti (0000:1A:00.0)\n"
     ]
    }
   ],
   "source": [
    "import pandas as pd\n",
    "import numpy as np\n",
    "from keras.models import Sequential, load_model\n",
    "from scipy.stats import pearsonr, spearmanr, ttest_1samp, ttest_ind_from_stats\n",
    "from scipy.special import logit, expit\n",
    "from sklearn.metrics import auc,roc_curve,roc_auc_score, precision_recall_curve, average_precision_score, auc, balanced_accuracy_score, accuracy_score, classification_report\n",
    "import matplotlib.pyplot as plt\n",
    "from matplotlib import rcParams\n",
    "rcParams.update({'figure.autolayout': True})\n",
    "rcParams['svg.fonttype'] = 'none'\n",
    "rcParams['font.size']=15"
   ]
  },
  {
   "cell_type": "code",
   "execution_count": 2,
   "metadata": {},
   "outputs": [
    {
     "name": "stderr",
     "output_type": "stream",
     "text": [
      "WARNING (theano.gof.cmodule): The same cache key is associated to different modules (/home/eramamur/.theano/compiledir_Linux-3.10-el7.x86_64-x86_64-with-centos-7.4.1708-Core-x86_64-3.6.7-64/tmp3u1bc4lx and /home/eramamur/.theano/compiledir_Linux-3.10-el7.x86_64-x86_64-with-centos-7.4.1708-Core-x86_64-3.6.7-64/tmpotib99zd). This is not supposed to happen! You may need to manually delete your cache directory to fix this.\n"
     ]
    }
   ],
   "source": [
    "classification_model = load_model(\"/projects/pfenninggroup/machineLearningForComputationalBiology/eramamur_stuff/ml_monocyte/classification_model_4.hdf5\", compile = False)"
   ]
  },
  {
   "cell_type": "code",
   "execution_count": 6,
   "metadata": {},
   "outputs": [],
   "source": [
    "def evaluate_model(X,Y,model, prefix):\n",
    "    pred = model.predict_proba(X)\n",
    "    \n",
    "    fpr, tpr, thresholds = roc_curve(Y, pred, pos_label=1)\n",
    "    auRoc = auc(fpr, tpr)\n",
    "\n",
    "    precision, recall, thresholds = precision_recall_curve(Y,pred)\n",
    "    auPrc = auc(recall, precision)\n",
    "    averagePrecision = average_precision_score(Y, pred)\n",
    "    pred_binary = pred>0.5\n",
    "    balancedAccuracy = balanced_accuracy_score(Y, pred_binary)\n",
    "    \n",
    "    negativeClassTrue = []\n",
    "    negativeClassPred = []\n",
    "    positiveClassTrue = []\n",
    "    positiveClassPred = []\n",
    "    \n",
    "    for i, val in enumerate(Y):\n",
    "        currTrueLabel = Y[i]\n",
    "        currPred = pred_binary[i]\n",
    "        if currTrueLabel == 0:\n",
    "            negativeClassTrue.append(currTrueLabel)\n",
    "            negativeClassPred.append(currPred)\n",
    "        else:\n",
    "            positiveClassTrue.append(currTrueLabel)\n",
    "            positiveClassPred.append(currPred)            \n",
    "\n",
    "            \n",
    "    negativeClassTrue = np.array(negativeClassTrue)\n",
    "    negativeClassPred = np.array(negativeClassPred)\n",
    "    positiveClassTrue = np.array(positiveClassTrue)\n",
    "    positiveClassPred = np.array(positiveClassPred)\n",
    "    \n",
    "    negativeAccuracy = accuracy_score(negativeClassTrue, negativeClassPred)\n",
    "    positiveAccuracy = accuracy_score(positiveClassTrue, positiveClassPred)\n",
    "    \n",
    "    print(\"auROC:\",auRoc)\n",
    "    print(\"Average precision:\",averagePrecision)\n",
    "    print(\"auPRC:\",auPrc)\n",
    "    print(\"Balanced Accuracy:\",balancedAccuracy)\n",
    "    print(\"Positive Accuracy:\",positiveAccuracy)\n",
    "    print(\"Negative Accuracy:\",negativeAccuracy)\n",
    "    print(\"Classification Report:\")\n",
    "    print(classification_report(Y, pred_binary))\n",
    "    \n",
    "    plt.figure()\n",
    "\n",
    "    plt.plot(fpr, tpr)\n",
    "    plt.plot([0,1],[0,1],linestyle='--')\n",
    "    plt.title(\"ROC (AUC: \" +str(round(auRoc,2))+\")\")\n",
    "    plt.xlabel(\"False Positive Rate\")\n",
    "    plt.ylabel(\"True Positive Rate\")\n",
    "    plt.savefig(prefix+\"_roc.svg\")\n",
    "    plt.savefig(prefix+\"_roc.png\")\n",
    "\n",
    "    \n",
    "    plt.figure()    \n",
    "    plt.step(recall, precision, color='b', alpha=0.2,where='post')\n",
    "    plt.fill_between(recall, precision, alpha=0.2, color='b')\n",
    "    plt.title(\"Precision-Recall (AUC: \" +str(round(auPrc,2))+\")\")\n",
    "    plt.xlabel('Recall')\n",
    "    plt.ylabel('Precision')\n",
    "    plt.ylim([0.0, 1.05])\n",
    "    plt.xlim([0.0, 1.0])\n",
    "    plt.savefig(prefix+\"_prc.svg\")\n",
    "    plt.savefig(prefix+\"_prc.png\")"
   ]
  },
  {
   "cell_type": "code",
   "execution_count": 4,
   "metadata": {},
   "outputs": [],
   "source": [
    "#X_train = np.load('/projects/pfenninggroup/machineLearningForComputationalBiology/eramamur_stuff/ml_monocyte/chrs_training_summit_centered_training_set_classification_X.npy')\n",
    "#Y_train = np.load('/projects/pfenninggroup/machineLearningForComputationalBiology/eramamur_stuff/ml_monocyte/chrs_training_summit_centered_training_set_classification_Y.npy')\n",
    "X_valid = np.load('/projects/pfenninggroup/machineLearningForComputationalBiology/eramamur_stuff/ml_monocyte/chr4_summit_centered_validation_set_classification_X.npy')\n",
    "Y_valid = np.load('/projects/pfenninggroup/machineLearningForComputationalBiology/eramamur_stuff/ml_monocyte/chr4_summit_centered_validation_set_classification_Y.npy')"
   ]
  },
  {
   "cell_type": "code",
   "execution_count": 7,
   "metadata": {},
   "outputs": [
    {
     "name": "stdout",
     "output_type": "stream",
     "text": [
      "auROC: 0.9752227473025782\n",
      "Average precision: 0.9799205911157891\n",
      "auPRC: 0.9799170353112591\n",
      "Balanced Accuracy: 0.920599714829538\n",
      "Positive Accuracy: 0.9378736122971819\n",
      "Negative Accuracy: 0.903325817361894\n",
      "Classification Report:\n",
      "              precision    recall  f1-score   support\n",
      "\n",
      "         0.0       0.92      0.90      0.91      3548\n",
      "         1.0       0.93      0.94      0.93      4684\n",
      "\n",
      "   micro avg       0.92      0.92      0.92      8232\n",
      "   macro avg       0.92      0.92      0.92      8232\n",
      "weighted avg       0.92      0.92      0.92      8232\n",
      "\n"
     ]
    },
    {
     "data": {
      "image/png": "[encoded data removed]",
      "text/plain": [
       "<Figure size 432x288 with 1 Axes>"
      ]
     },
     "metadata": {
      "needs_background": "light"
     },
     "output_type": "display_data"
    },
    {
     "data": {
      "image/png": "[encoded data removed]",
      "text/plain": [
       "<Figure size 432x288 with 1 Axes>"
      ]
     },
     "metadata": {
      "needs_background": "light"
     },
     "output_type": "display_data"
    }
   ],
   "source": [
    "evaluate_model(X_valid,Y_valid,classification_model, \"monocyte_validation\")"
   ]
  },
  {
   "cell_type": "code",
   "execution_count": null,
   "metadata": {},
   "outputs": [],
   "source": [
    "#evaluate_model(X_train,Y_train,classification_model, \"monocyte_training\")"
   ]
  },
  {
   "cell_type": "code",
   "execution_count": null,
   "metadata": {},
   "outputs": [],
   "source": []
  }
 ],
 "metadata": {
  "kernelspec": {
   "display_name": "Python [conda env:gpu_keras_theano]",
   "language": "python",
   "name": "conda-env-gpu_keras_theano-py"
  },
  "language_info": {
   "codemirror_mode": {
    "name": "ipython",
    "version": 3
   },
   "file_extension": ".py",
   "mimetype": "text/x-python",
   "name": "python",
   "nbconvert_exporter": "python",
   "pygments_lexer": "ipython3",
   "version": "3.6.7"
  }
 },
 "nbformat": 4,
 "nbformat_minor": 2
}
