{
 "cells": [
  {
   "cell_type": "code",
   "execution_count": 10,
   "metadata": {},
   "outputs": [],
   "source": [
    "from ucscgenome import Genome\n",
    "import pandas as pd\n",
    "import numpy as np"
   ]
  },
  {
   "cell_type": "code",
   "execution_count": 2,
   "metadata": {},
   "outputs": [],
   "source": [
    "def oneHotEncodeSequence(sequence):\n",
    "    oneHotDimension = (len(sequence), 4)\n",
    "    dnaAlphabet = {\"A\":0, \"G\":1, \"C\":2, \"T\":3}\n",
    "    one_hot_encoded_sequence = np.zeros(oneHotDimension, dtype=np.int)\n",
    "    for i, nucleotide in enumerate(sequence):\n",
    "        if nucleotide.upper() in dnaAlphabet:\n",
    "            index = dnaAlphabet[nucleotide.upper()]\n",
    "            one_hot_encoded_sequence[i][index] = 1\n",
    "    return one_hot_encoded_sequence"
   ]
  },
  {
   "cell_type": "code",
   "execution_count": 3,
   "metadata": {},
   "outputs": [],
   "source": [
    "genomeName = \"hg19\"\n",
    "genomeDir = \"/home/eramamur/resources/genomes/hg19/\"\n",
    "hg19 = Genome(genomeName, cache_dir=genomeDir, use_web=False)"
   ]
  },
  {
   "cell_type": "code",
   "execution_count": 4,
   "metadata": {},
   "outputs": [],
   "source": [
    "snp_data = pd.read_csv(\"/projects/pfenninggroup/machineLearningForComputationalBiology/eramamur_stuff/ad_variants_processing/snigdha_snp_list_unique_haploreg_hg19_positions.txt\",\n",
    "                               header=0,\n",
    "                               sep='\\t')"
   ]
  },
  {
   "cell_type": "code",
   "execution_count": 5,
   "metadata": {},
   "outputs": [
    {
     "data": {
      "text/html": [
       "<div>\n",
       "<style scoped>\n",
       "    .dataframe tbody tr th:only-of-type {\n",
       "        vertical-align: middle;\n",
       "    }\n",
       "\n",
       "    .dataframe tbody tr th {\n",
       "        vertical-align: top;\n",
       "    }\n",
       "\n",
       "    .dataframe thead th {\n",
       "        text-align: right;\n",
       "    }\n",
       "</style>\n",
       "<table border=\"1\" class=\"dataframe\">\n",
       "  <thead>\n",
       "    <tr style=\"text-align: right;\">\n",
       "      <th></th>\n",
       "      <th>CHR</th>\n",
       "      <th>haploreg_hg19_pos</th>\n",
       "      <th>LD_RSID</th>\n",
       "      <th>REF</th>\n",
       "      <th>ALT</th>\n",
       "    </tr>\n",
       "  </thead>\n",
       "  <tbody>\n",
       "    <tr>\n",
       "      <th>0</th>\n",
       "      <td>chr10</td>\n",
       "      <td>11707563</td>\n",
       "      <td>rs34388456</td>\n",
       "      <td>GCCT</td>\n",
       "      <td>G</td>\n",
       "    </tr>\n",
       "    <tr>\n",
       "      <th>1</th>\n",
       "      <td>chr10</td>\n",
       "      <td>11707915</td>\n",
       "      <td>rs11257227</td>\n",
       "      <td>A</td>\n",
       "      <td>G</td>\n",
       "    </tr>\n",
       "    <tr>\n",
       "      <th>2</th>\n",
       "      <td>chr10</td>\n",
       "      <td>11714507</td>\n",
       "      <td>rs74347557</td>\n",
       "      <td>C</td>\n",
       "      <td>T</td>\n",
       "    </tr>\n",
       "    <tr>\n",
       "      <th>3</th>\n",
       "      <td>chr10</td>\n",
       "      <td>11714686</td>\n",
       "      <td>rs77892763</td>\n",
       "      <td>C</td>\n",
       "      <td>T</td>\n",
       "    </tr>\n",
       "    <tr>\n",
       "      <th>4</th>\n",
       "      <td>chr10</td>\n",
       "      <td>11717397</td>\n",
       "      <td>rs11257238</td>\n",
       "      <td>T</td>\n",
       "      <td>C</td>\n",
       "    </tr>\n",
       "  </tbody>\n",
       "</table>\n",
       "</div>"
      ],
      "text/plain": [
       "     CHR  haploreg_hg19_pos     LD_RSID   REF ALT\n",
       "0  chr10           11707563  rs34388456  GCCT   G\n",
       "1  chr10           11707915  rs11257227     A   G\n",
       "2  chr10           11714507  rs74347557     C   T\n",
       "3  chr10           11714686  rs77892763     C   T\n",
       "4  chr10           11717397  rs11257238     T   C"
      ]
     },
     "execution_count": 5,
     "metadata": {},
     "output_type": "execute_result"
    }
   ],
   "source": [
    "snp_data.head()"
   ]
  },
  {
   "cell_type": "code",
   "execution_count": 6,
   "metadata": {},
   "outputs": [],
   "source": [
    "def getSequence(allele,chrom,position,left,right,genome):\n",
    "    alleleLength = len(allele)\n",
    "    zeroBasedPosition = position-1\n",
    "    deductable = \"right\"\n",
    "    for i in range(alleleLength-1):\n",
    "        if deductable==\"right\":\n",
    "            right-=1\n",
    "            deductable=\"left\"\n",
    "        elif deductable==\"left\":\n",
    "            left-=1\n",
    "            deductable=\"right\"\n",
    "    \n",
    "    left_sequence = hg19[chrom][zeroBasedPosition-left:zeroBasedPosition]\n",
    "    right_sequence = hg19[chrom][zeroBasedPosition+alleleLength:zeroBasedPosition+alleleLength+right]\n",
    "    \n",
    "    sequence = left_sequence.lower()+allele.lower()+right_sequence.lower()\n",
    "    return sequence"
   ]
  },
  {
   "cell_type": "code",
   "execution_count": 7,
   "metadata": {},
   "outputs": [],
   "source": [
    "ref_sequences_1kb = []\n",
    "alt_sequences_1kb = []\n",
    "ref_sequences_500bp = []\n",
    "alt_sequences_500bp = []\n",
    "ref_sequences_501bp = []\n",
    "alt_sequences_501bp = []\n",
    "\n",
    "left_1kb = 499\n",
    "right_1kb = 500\n",
    "left_500bp = 249\n",
    "right_500bp = 250\n",
    "left_501bp = 250\n",
    "right_501bp = 250\n",
    "\n",
    "for index,row in snp_data.iterrows():\n",
    "    ref = row[\"REF\"]\n",
    "    alt = row[\"ALT\"]\n",
    "    chrom = row[\"CHR\"]\n",
    "    position = row[\"haploreg_hg19_pos\"]\n",
    "    \n",
    "\n",
    "    ref_sequence_1kb = getSequence(ref,chrom,position,left_1kb,right_1kb,hg19)\n",
    "    alt_sequence_1kb = getSequence(alt,chrom,position,left_1kb,right_1kb,hg19)\n",
    "\n",
    "    ref_sequence_500bp = getSequence(ref,chrom,position,left_500bp,right_500bp,hg19)\n",
    "    alt_sequence_500bp = getSequence(alt,chrom,position,left_500bp,right_500bp,hg19)\n",
    "\n",
    "    ref_sequence_501bp = getSequence(ref,chrom,position,left_501bp,right_501bp,hg19)\n",
    "    alt_sequence_501bp = getSequence(alt,chrom,position,left_501bp,right_501bp,hg19)\n",
    "    \n",
    "    \n",
    "    #assertions to check function definition\n",
    "    refLength = len(ref)\n",
    "    if refLength%2==0:\n",
    "        midPoint = position - 2 + refLength//2\n",
    "    else:\n",
    "        midPoint = position - 1 + refLength//2\n",
    "        \n",
    "    hg19_ref_sequence_1kb = hg19[chrom][midPoint-left_1kb:midPoint+right_1kb+1].lower()\n",
    "    assert(hg19_ref_sequence_1kb==ref_sequence_1kb)\n",
    " \n",
    "    hg19_ref_sequence_500bp = hg19[chrom][midPoint-left_500bp:midPoint+right_500bp+1].lower()\n",
    "    assert(hg19_ref_sequence_500bp==ref_sequence_500bp)\n",
    "\n",
    "    ref_sequences_1kb.append(ref_sequence_1kb)\n",
    "    alt_sequences_1kb.append(alt_sequence_1kb)\n",
    "    \n",
    "    ref_sequences_500bp.append(ref_sequence_500bp)\n",
    "    alt_sequences_500bp.append(alt_sequence_500bp)\n",
    "    \n",
    "    ref_sequences_501bp.append(ref_sequence_501bp)\n",
    "    alt_sequences_501bp.append(alt_sequence_501bp)"
   ]
  },
  {
   "cell_type": "code",
   "execution_count": 8,
   "metadata": {},
   "outputs": [],
   "source": [
    "snp_data[\"ref_1kb\"] = ref_sequences_1kb\n",
    "snp_data[\"alt_1kb\"] = alt_sequences_1kb\n",
    "snp_data[\"ref_500bp\"] = ref_sequences_500bp\n",
    "snp_data[\"alt_500bp\"] = alt_sequences_500bp\n",
    "snp_data[\"ref_501bp\"] = ref_sequences_501bp\n",
    "snp_data[\"alt_501bp\"] = alt_sequences_501bp"
   ]
  },
  {
   "cell_type": "code",
   "execution_count": 11,
   "metadata": {},
   "outputs": [],
   "source": [
    "ref_501bp_output = \"/projects/pfenninggroup/machineLearningForComputationalBiology/eramamur_stuff/ad_variants_processing/ref_501bp_sequences.npy\"  \n",
    "alt_501bp_output = \"/projects/pfenninggroup/machineLearningForComputationalBiology/eramamur_stuff/ad_variants_processing/alt_501bp_sequences.npy\"  \n",
    "\n",
    "encodedRefSequences_501bp = []\n",
    "encodedAltSequences_501bp = []\n",
    "\n",
    "for index,row in snp_data.iterrows():\n",
    "    refSequence_501bp = row[\"ref_501bp\"]\n",
    "    altSequence_501bp = row[\"alt_501bp\"]\n",
    "    \n",
    "    encodedRefSequences_501bp.append(oneHotEncodeSequence(refSequence_501bp))\n",
    "    encodedAltSequences_501bp.append(oneHotEncodeSequence(altSequence_501bp))\n",
    "    \n",
    "encodedRefSequences_501bp = np.stack(encodedRefSequences_501bp, axis=0)\n",
    "encodedAltSequences_501bp = np.stack(encodedAltSequences_501bp, axis=0)\n",
    "\n",
    "np.save(ref_501bp_output, encodedRefSequences_501bp)\n",
    "np.save(alt_501bp_output, encodedAltSequences_501bp)"
   ]
  },
  {
   "cell_type": "code",
   "execution_count": 41,
   "metadata": {},
   "outputs": [],
   "source": [
    "snp_data.to_csv(\"/projects/pfenninggroup/machineLearningForComputationalBiology/eramamur_stuff/ad_variants_processing/snigdha_snp_list_unique_haploreg_hg19_positions_1kb_and_500bp_sequences.txt\",\n",
    "                sep='\\t',\n",
    "                index=False)"
   ]
  }
 ],
 "metadata": {
  "kernelspec": {
   "display_name": "Python [conda env:py27]",
   "language": "python",
   "name": "conda-env-py27-py"
  },
  "language_info": {
   "codemirror_mode": {
    "name": "ipython",
    "version": 2
   },
   "file_extension": ".py",
   "mimetype": "text/x-python",
   "name": "python",
   "nbconvert_exporter": "python",
   "pygments_lexer": "ipython2",
   "version": "2.7.15"
  }
 },
 "nbformat": 4,
 "nbformat_minor": 2
}
