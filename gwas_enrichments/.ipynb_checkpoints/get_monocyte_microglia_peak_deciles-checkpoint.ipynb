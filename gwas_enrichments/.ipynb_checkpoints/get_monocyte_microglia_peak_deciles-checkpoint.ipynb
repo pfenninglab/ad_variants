{
 "cells": [
  {
   "cell_type": "code",
   "execution_count": 8,
   "metadata": {},
   "outputs": [],
   "source": [
    "import pandas as pd\n",
    "import seaborn as sns\n",
    "import numpy as np\n",
    "import os"
   ]
  },
  {
   "cell_type": "code",
   "execution_count": 9,
   "metadata": {},
   "outputs": [],
   "source": [
    "encode_monocyte_peaks = pd.read_csv(\"/projects/pfenninggroup/machineLearningForComputationalBiology/eramamur_stuff/ml_human_monocyte_brain/furtherProcessedPeaks/humanMonocyteDHS/peak/macs2/idr/optimal_set/humanMonocyteDHS_ppr.IDR0.1.filt.narrowPeak.gz\",\n",
    "                             compression='gzip',\n",
    "                             sep='\\t',\n",
    "                             header=None,\n",
    "                             names=['chr',\n",
    "                                    'start',\n",
    "                                    'end',\n",
    "                                    'name',\n",
    "                                    'score',\n",
    "                                    'strand',\n",
    "                                    'signalValue',\n",
    "                                    'pValue',\n",
    "                                    'qValue',\n",
    "                                    'peak'\n",
    "                                   ]\n",
    "                                   )\n",
    "\n",
    "gosselin_microglia_peaks = pd.read_csv(\"/projects/pfenninggroup/machineLearningForComputationalBiology/eramamur_stuff/gosselin_microglia_atac/exvivo_idr_pipeline_out/atac/0c4b0010-a158-4176-a424-059a4fb12cef/call-reproducibility_idr/execution/optimal_peak.narrowPeak.gz\",\n",
    "                             compression='gzip',\n",
    "                             sep='\\t',\n",
    "                             header=None,\n",
    "                             names=['chr',\n",
    "                                    'start',\n",
    "                                    'end',\n",
    "                                    'name',\n",
    "                                    'score',\n",
    "                                    'strand',\n",
    "                                    'signalValue',\n",
    "                                    'pValue',\n",
    "                                    'qValue',\n",
    "                                    'peak'\n",
    "                                   ]\n",
    "                                      )"
   ]
  },
  {
   "cell_type": "code",
   "execution_count": 10,
   "metadata": {},
   "outputs": [
    {
     "name": "stderr",
     "output_type": "stream",
     "text": [
      "/home/eramamur/bin/miniconda3/envs/data_analysis/lib/python3.7/site-packages/seaborn/_decorators.py:43: FutureWarning: Pass the following variable as a keyword arg: x. From version 0.12, the only valid positional argument will be `data`, and passing other arguments without an explicit keyword will result in an error or misinterpretation.\n",
      "  FutureWarning\n"
     ]
    },
    {
     "data": {
      "text/plain": [
       "<matplotlib.axes._subplots.AxesSubplot at 0x7f79ab4264a8>"
      ]
     },
     "execution_count": 10,
     "metadata": {},
     "output_type": "execute_result"
    },
    {
     "data": {
      "image/png": "[encoded data removed]",
      "text/plain": [
       "<Figure size 432x288 with 1 Axes>"
      ]
     },
     "metadata": {
      "needs_background": "light"
     },
     "output_type": "display_data"
    }
   ],
   "source": [
    "sns.violinplot(encode_monocyte_peaks['signalValue'])"
   ]
  },
  {
   "cell_type": "code",
   "execution_count": 11,
   "metadata": {},
   "outputs": [
    {
     "name": "stderr",
     "output_type": "stream",
     "text": [
      "/home/eramamur/bin/miniconda3/envs/data_analysis/lib/python3.7/site-packages/seaborn/_decorators.py:43: FutureWarning: Pass the following variable as a keyword arg: x. From version 0.12, the only valid positional argument will be `data`, and passing other arguments without an explicit keyword will result in an error or misinterpretation.\n",
      "  FutureWarning\n"
     ]
    },
    {
     "data": {
      "text/plain": [
       "<matplotlib.axes._subplots.AxesSubplot at 0x7f79ad57aa20>"
      ]
     },
     "execution_count": 11,
     "metadata": {},
     "output_type": "execute_result"
    },
    {
     "data": {
      "image/png": "[encoded data removed]",
      "text/plain": [
       "<Figure size 432x288 with 1 Axes>"
      ]
     },
     "metadata": {
      "needs_background": "light"
     },
     "output_type": "display_data"
    }
   ],
   "source": [
    "sns.violinplot(gosselin_microglia_peaks['signalValue'])"
   ]
  },
  {
   "cell_type": "code",
   "execution_count": 12,
   "metadata": {},
   "outputs": [
    {
     "name": "stderr",
     "output_type": "stream",
     "text": [
      "/home/eramamur/bin/miniconda3/envs/data_analysis/lib/python3.7/site-packages/seaborn/_decorators.py:43: FutureWarning: Pass the following variable as a keyword arg: x. From version 0.12, the only valid positional argument will be `data`, and passing other arguments without an explicit keyword will result in an error or misinterpretation.\n",
      "  FutureWarning\n"
     ]
    },
    {
     "data": {
      "text/plain": [
       "<matplotlib.axes._subplots.AxesSubplot at 0x7f79ad4de898>"
      ]
     },
     "execution_count": 12,
     "metadata": {},
     "output_type": "execute_result"
    },
    {
     "data": {
      "image/png": "[encoded data removed]",
      "text/plain": [
       "<Figure size 432x288 with 1 Axes>"
      ]
     },
     "metadata": {
      "needs_background": "light"
     },
     "output_type": "display_data"
    }
   ],
   "source": [
    "sns.violinplot(np.log10(encode_monocyte_peaks['signalValue']))"
   ]
  },
  {
   "cell_type": "code",
   "execution_count": 13,
   "metadata": {},
   "outputs": [
    {
     "name": "stderr",
     "output_type": "stream",
     "text": [
      "/home/eramamur/bin/miniconda3/envs/data_analysis/lib/python3.7/site-packages/seaborn/_decorators.py:43: FutureWarning: Pass the following variable as a keyword arg: x. From version 0.12, the only valid positional argument will be `data`, and passing other arguments without an explicit keyword will result in an error or misinterpretation.\n",
      "  FutureWarning\n"
     ]
    },
    {
     "data": {
      "text/plain": [
       "<matplotlib.axes._subplots.AxesSubplot at 0x7f79ad4c1ef0>"
      ]
     },
     "execution_count": 13,
     "metadata": {},
     "output_type": "execute_result"
    },
    {
     "data": {
      "image/png": "[encoded data removed]",
      "text/plain": [
       "<Figure size 432x288 with 1 Axes>"
      ]
     },
     "metadata": {
      "needs_background": "light"
     },
     "output_type": "display_data"
    }
   ],
   "source": [
    "sns.violinplot(np.log10(gosselin_microglia_peaks['signalValue']))"
   ]
  },
  {
   "cell_type": "code",
   "execution_count": 14,
   "metadata": {},
   "outputs": [],
   "source": [
    "num_quantiles = 10\n",
    "encode_monocyte_peaks['logSignalValue'] = np.log10(encode_monocyte_peaks['signalValue'])\n",
    "encode_monocyte_peaks_sorted = encode_monocyte_peaks.sort_values(by='logSignalValue', ascending=False).reset_index()\n",
    "encode_monocyte_num_samples_decile = encode_monocyte_peaks_sorted.shape[0]//num_quantiles\n",
    "encode_monocyte_peaks_chunks = [encode_monocyte_peaks_sorted[i:i+encode_monocyte_num_samples_decile] for i in range(0,encode_monocyte_peaks_sorted.shape[0],encode_monocyte_num_samples_decile)]\n",
    "\n",
    "\n",
    "num_quantiles = 10\n",
    "gosselin_microglia_peaks['logSignalValue'] = np.log10(gosselin_microglia_peaks['signalValue'])\n",
    "gosselin_microglia_peaks_sorted = gosselin_microglia_peaks.sort_values(by='logSignalValue', ascending=False).reset_index()\n",
    "gosselin_microglia_num_samples_decile = gosselin_microglia_peaks_sorted.shape[0]//num_quantiles\n",
    "gosselin_microglia_peaks_chunks = [gosselin_microglia_peaks_sorted[i:i+gosselin_microglia_num_samples_decile] for i in range(0,gosselin_microglia_peaks_sorted.shape[0],gosselin_microglia_num_samples_decile)]"
   ]
  },
  {
   "cell_type": "code",
   "execution_count": 15,
   "metadata": {},
   "outputs": [
    {
     "data": {
      "text/plain": [
       "11"
      ]
     },
     "execution_count": 15,
     "metadata": {},
     "output_type": "execute_result"
    }
   ],
   "source": [
    "len(gosselin_microglia_peaks_chunks)"
   ]
  },
  {
   "cell_type": "code",
   "execution_count": 16,
   "metadata": {},
   "outputs": [
    {
     "data": {
      "text/plain": [
       "11"
      ]
     },
     "execution_count": 16,
     "metadata": {},
     "output_type": "execute_result"
    }
   ],
   "source": [
    "len(encode_monocyte_peaks_chunks)"
   ]
  },
  {
   "cell_type": "code",
   "execution_count": 17,
   "metadata": {},
   "outputs": [],
   "source": [
    "out_path = \"/projects/pfenninggroup/machineLearningForComputationalBiology/eramamur_stuff/gwas_enrichments/monocyte_microglia_quantiles/\""
   ]
  },
  {
   "cell_type": "code",
   "execution_count": 18,
   "metadata": {},
   "outputs": [
    {
     "data": {
      "text/html": [
       "<div>\n",
       "<style scoped>\n",
       "    .dataframe tbody tr th:only-of-type {\n",
       "        vertical-align: middle;\n",
       "    }\n",
       "\n",
       "    .dataframe tbody tr th {\n",
       "        vertical-align: top;\n",
       "    }\n",
       "\n",
       "    .dataframe thead th {\n",
       "        text-align: right;\n",
       "    }\n",
       "</style>\n",
       "<table border=\"1\" class=\"dataframe\">\n",
       "  <thead>\n",
       "    <tr style=\"text-align: right;\">\n",
       "      <th></th>\n",
       "      <th>index</th>\n",
       "      <th>chr</th>\n",
       "      <th>start</th>\n",
       "      <th>end</th>\n",
       "      <th>name</th>\n",
       "      <th>score</th>\n",
       "      <th>strand</th>\n",
       "      <th>signalValue</th>\n",
       "      <th>pValue</th>\n",
       "      <th>qValue</th>\n",
       "      <th>peak</th>\n",
       "      <th>logSignalValue</th>\n",
       "    </tr>\n",
       "  </thead>\n",
       "  <tbody>\n",
       "    <tr>\n",
       "      <th>0</th>\n",
       "      <td>3006</td>\n",
       "      <td>chr7</td>\n",
       "      <td>75092964</td>\n",
       "      <td>75093136</td>\n",
       "      <td>.</td>\n",
       "      <td>1000</td>\n",
       "      <td>.</td>\n",
       "      <td>63.41002</td>\n",
       "      <td>648.21899</td>\n",
       "      <td>644.08942</td>\n",
       "      <td>83</td>\n",
       "      <td>1.802158</td>\n",
       "    </tr>\n",
       "    <tr>\n",
       "      <th>1</th>\n",
       "      <td>11856</td>\n",
       "      <td>chr17</td>\n",
       "      <td>43251630</td>\n",
       "      <td>43251795</td>\n",
       "      <td>.</td>\n",
       "      <td>1000</td>\n",
       "      <td>.</td>\n",
       "      <td>61.16833</td>\n",
       "      <td>422.53891</td>\n",
       "      <td>419.11417</td>\n",
       "      <td>78</td>\n",
       "      <td>1.786527</td>\n",
       "    </tr>\n",
       "    <tr>\n",
       "      <th>2</th>\n",
       "      <td>11855</td>\n",
       "      <td>chr4</td>\n",
       "      <td>131725027</td>\n",
       "      <td>131725180</td>\n",
       "      <td>.</td>\n",
       "      <td>1000</td>\n",
       "      <td>.</td>\n",
       "      <td>61.16833</td>\n",
       "      <td>422.53891</td>\n",
       "      <td>419.11417</td>\n",
       "      <td>79</td>\n",
       "      <td>1.786527</td>\n",
       "    </tr>\n",
       "    <tr>\n",
       "      <th>3</th>\n",
       "      <td>11237</td>\n",
       "      <td>chr14</td>\n",
       "      <td>24001800</td>\n",
       "      <td>24001992</td>\n",
       "      <td>.</td>\n",
       "      <td>1000</td>\n",
       "      <td>.</td>\n",
       "      <td>58.79356</td>\n",
       "      <td>432.34372</td>\n",
       "      <td>428.89093</td>\n",
       "      <td>106</td>\n",
       "      <td>1.769330</td>\n",
       "    </tr>\n",
       "    <tr>\n",
       "      <th>4</th>\n",
       "      <td>14132</td>\n",
       "      <td>chr9</td>\n",
       "      <td>41397868</td>\n",
       "      <td>41398061</td>\n",
       "      <td>.</td>\n",
       "      <td>1000</td>\n",
       "      <td>.</td>\n",
       "      <td>57.55770</td>\n",
       "      <td>390.61404</td>\n",
       "      <td>387.27850</td>\n",
       "      <td>101</td>\n",
       "      <td>1.760103</td>\n",
       "    </tr>\n",
       "  </tbody>\n",
       "</table>\n",
       "</div>"
      ],
      "text/plain": [
       "   index    chr      start        end name  score strand  signalValue  \\\n",
       "0   3006   chr7   75092964   75093136    .   1000      .     63.41002   \n",
       "1  11856  chr17   43251630   43251795    .   1000      .     61.16833   \n",
       "2  11855   chr4  131725027  131725180    .   1000      .     61.16833   \n",
       "3  11237  chr14   24001800   24001992    .   1000      .     58.79356   \n",
       "4  14132   chr9   41397868   41398061    .   1000      .     57.55770   \n",
       "\n",
       "      pValue     qValue  peak  logSignalValue  \n",
       "0  648.21899  644.08942    83        1.802158  \n",
       "1  422.53891  419.11417    78        1.786527  \n",
       "2  422.53891  419.11417    79        1.786527  \n",
       "3  432.34372  428.89093   106        1.769330  \n",
       "4  390.61404  387.27850   101        1.760103  "
      ]
     },
     "execution_count": 18,
     "metadata": {},
     "output_type": "execute_result"
    }
   ],
   "source": [
    "gosselin_microglia_peaks_chunks[0].head()"
   ]
  },
  {
   "cell_type": "code",
   "execution_count": 19,
   "metadata": {},
   "outputs": [],
   "source": [
    "for i,chunk in enumerate(encode_monocyte_peaks_chunks[0:num_quantiles]):\n",
    "    chunk_new = chunk.drop(['index'], axis=1)\n",
    "    chunk_new.to_csv(os.path.join(out_path, f'encode_monocyte_decile_{i+1}.narrowPeak'),\n",
    "                 index=False,\n",
    "                 header=False\n",
    "                )"
   ]
  },
  {
   "cell_type": "code",
   "execution_count": 20,
   "metadata": {},
   "outputs": [],
   "source": [
    "for i,chunk in enumerate(gosselin_microglia_peaks_chunks[0:num_quantiles]):\n",
    "    chunk.drop(['index'], axis=1)\n",
    "    chunk.to_csv(os.path.join(out_path, f'gosselin_microglia_decile_{i+1}.narrowPeak'),\n",
    "                 index=False,\n",
    "                 header=False\n",
    "                )"
   ]
  },
  {
   "cell_type": "code",
   "execution_count": 24,
   "metadata": {},
   "outputs": [
    {
     "name": "stdout",
     "output_type": "stream",
     "text": [
      "1.4800612936776278\n",
      "1.332782420662112\n",
      "1.2282501022059789\n",
      "1.1364085339975238\n",
      "1.0496171178558522\n",
      "0.9625613185568986\n",
      "0.8692343871607991\n",
      "0.7590865042569136\n",
      "0.6206353560392519\n",
      "0.42799242091615153\n",
      "0.10453100363834572\n"
     ]
    }
   ],
   "source": [
    "for chunk in gosselin_microglia_peaks_chunks:\n",
    "    print(chunk['logSignalValue'].mean())"
   ]
  },
  {
   "cell_type": "code",
   "execution_count": 25,
   "metadata": {},
   "outputs": [
    {
     "name": "stdout",
     "output_type": "stream",
     "text": [
      "1.1803041289034584\n",
      "1.0327834659106914\n",
      "0.9312562818845072\n",
      "0.845688267135344\n",
      "0.7689157738029516\n",
      "0.6965187259127225\n",
      "0.622732140500323\n",
      "0.5469001795105918\n",
      "0.4599905014173044\n",
      "0.3410179874659305\n",
      "0.17563408074115072\n"
     ]
    }
   ],
   "source": [
    "for chunk in encode_monocyte_peaks_chunks:\n",
    "    print(chunk['logSignalValue'].mean())"
   ]
  },
  {
   "cell_type": "code",
   "execution_count": null,
   "metadata": {},
   "outputs": [],
   "source": []
  }
 ],
 "metadata": {
  "kernelspec": {
   "display_name": "Python [conda env:data_analysis]",
   "language": "python",
   "name": "conda-env-data_analysis-py"
  },
  "language_info": {
   "codemirror_mode": {
    "name": "ipython",
    "version": 3
   },
   "file_extension": ".py",
   "mimetype": "text/x-python",
   "name": "python",
   "nbconvert_exporter": "python",
   "pygments_lexer": "ipython3",
   "version": "3.7.3"
  }
 },
 "nbformat": 4,
 "nbformat_minor": 2
}
