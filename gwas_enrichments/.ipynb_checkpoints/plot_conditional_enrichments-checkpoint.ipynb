{
 "cells": [
  {
   "cell_type": "code",
   "execution_count": 57,
   "metadata": {},
   "outputs": [],
   "source": [
    "import pandas as pd\n",
    "import os\n",
    "import matplotlib.pyplot as plt\n",
    "\n",
    "from matplotlib import rcParams\n",
    "rcParams.update({'figure.autolayout': True})\n",
    "rcParams['svg.fonttype'] = 'none'\n",
    "rcParams['font.size']=10"
   ]
  },
  {
   "cell_type": "code",
   "execution_count": 58,
   "metadata": {},
   "outputs": [],
   "source": [
    "infile_path = '/projects/pfenninggroup/machineLearningForComputationalBiology/eramamur_stuff/gwas_enrichments/monocyte_microglia_quantiles'"
   ]
  },
  {
   "cell_type": "code",
   "execution_count": 102,
   "metadata": {},
   "outputs": [],
   "source": [
    "def plotEnrichmentsFromDf(df, title):\n",
    "    df['Decile'] = df['Name'].apply(lambda x: int(x.split(\"_\")[-1]))\n",
    "    df['cell_type'] = df['Name'].apply(lambda x: x.split(\"_decile_\")[0])\n",
    "    legend_handles = []\n",
    "    for cell_type in df['cell_type'].unique():\n",
    "        df_cell_type = df.loc[df['cell_type']==cell_type ]\n",
    "        \n",
    "        if cell_type=='encode_monocyte':\n",
    "            color = 'C0'\n",
    "        elif cell_type=='gosselin_microglia':\n",
    "            color = 'C1'\n",
    "        plot1, = plt.errorbar(df_cell_type['Decile'],\n",
    "                     y=df_cell_type[\"Coefficient\"],\n",
    "                     yerr=df_cell_type[\"Coefficient_std_error\"],\n",
    "                     label=cell_type,\n",
    "                     fmt='o',\n",
    "                     capsize=5,\n",
    "                     ecolor=color,\n",
    "                     markerfacecolor=color,\n",
    "                     markeredgecolor=color)\n",
    "        \n",
    "        \n",
    "        legend_handles.append(plot1)\n",
    "    \n",
    "    ax = plt.gca()\n",
    "    ax.set_ylim(df['Coefficient'].min()-1e-6,\n",
    "            df['Coefficient'].max()+1e-6\n",
    "            ) \n",
    "    ax.set_xlabel('Peak signal value decile')\n",
    "    ax.set_ylabel('S-LDSC coefficient')\n",
    "    \n",
    "    ax.legend(handles = legend_handles)\n",
    "    ax.set_title(title)\n",
    "    plt.show()"
   ]
  },
  {
   "cell_type": "code",
   "execution_count": 103,
   "metadata": {},
   "outputs": [],
   "source": [
    "kunkle_enrichments_merged_bg = pd.read_csv(os.path.join(infile_path,'kunkle_enrichments.cell_type_results.txt'),\n",
    "                                           sep='\\t'\n",
    "                                          )\n",
    "kunkle_enrichments_indiv_bg = pd.read_csv(os.path.join(infile_path,'kunkle_enrichments_indiv_bg.cell_type_results.txt'),\n",
    "                                           sep='\\t'\n",
    "                                          )\n",
    "\n",
    "jansen_enrichments_merged_bg = pd.read_csv(os.path.join(infile_path,'jansen_enrichments.cell_type_results.txt'),\n",
    "                                           sep='\\t'\n",
    "                                          )\n",
    "jansen_enrichments_indiv_bg = pd.read_csv(os.path.join(infile_path,'jansen_enrichments_indiv_bg.cell_type_results.txt'),\n",
    "                                           sep='\\t'\n",
    "                                          )"
   ]
  },
  {
   "cell_type": "code",
   "execution_count": 104,
   "metadata": {},
   "outputs": [
    {
     "ename": "ValueError",
     "evalue": "too many values to unpack (expected 1)",
     "output_type": "error",
     "traceback": [
      "\u001b[0;31m---------------------------------------------------------------------------\u001b[0m",
      "\u001b[0;31mValueError\u001b[0m                                Traceback (most recent call last)",
      "\u001b[0;32m<ipython-input-104-82e67ee01c6a>\u001b[0m in \u001b[0;36m<module>\u001b[0;34m\u001b[0m\n\u001b[0;32m----> 1\u001b[0;31m \u001b[0mplotEnrichmentsFromDf\u001b[0m\u001b[0;34m(\u001b[0m\u001b[0mkunkle_enrichments_merged_bg\u001b[0m\u001b[0;34m,\u001b[0m \u001b[0;34m'Kunkle (merged background)'\u001b[0m\u001b[0;34m)\u001b[0m\u001b[0;34m\u001b[0m\u001b[0;34m\u001b[0m\u001b[0m\n\u001b[0m\u001b[1;32m      2\u001b[0m \u001b[0mplotEnrichmentsFromDf\u001b[0m\u001b[0;34m(\u001b[0m\u001b[0mkunkle_enrichments_indiv_bg\u001b[0m\u001b[0;34m,\u001b[0m \u001b[0;34m'Kunkle (individual background)'\u001b[0m\u001b[0;34m)\u001b[0m\u001b[0;34m\u001b[0m\u001b[0;34m\u001b[0m\u001b[0m\n\u001b[1;32m      3\u001b[0m \u001b[0mplotEnrichmentsFromDf\u001b[0m\u001b[0;34m(\u001b[0m\u001b[0mjansen_enrichments_merged_bg\u001b[0m\u001b[0;34m,\u001b[0m \u001b[0;34m'Jansen (merged background)'\u001b[0m\u001b[0;34m)\u001b[0m\u001b[0;34m\u001b[0m\u001b[0;34m\u001b[0m\u001b[0m\n\u001b[1;32m      4\u001b[0m \u001b[0mplotEnrichmentsFromDf\u001b[0m\u001b[0;34m(\u001b[0m\u001b[0mjansen_enrichments_indiv_bg\u001b[0m\u001b[0;34m,\u001b[0m \u001b[0;34m'Jansen (individual background)'\u001b[0m\u001b[0;34m)\u001b[0m\u001b[0;34m\u001b[0m\u001b[0;34m\u001b[0m\u001b[0m\n",
      "\u001b[0;32m<ipython-input-102-a950c787464b>\u001b[0m in \u001b[0;36mplotEnrichmentsFromDf\u001b[0;34m(df, title)\u001b[0m\n\u001b[1;32m     18\u001b[0m                      \u001b[0mecolor\u001b[0m\u001b[0;34m=\u001b[0m\u001b[0mcolor\u001b[0m\u001b[0;34m,\u001b[0m\u001b[0;34m\u001b[0m\u001b[0;34m\u001b[0m\u001b[0m\n\u001b[1;32m     19\u001b[0m                      \u001b[0mmarkerfacecolor\u001b[0m\u001b[0;34m=\u001b[0m\u001b[0mcolor\u001b[0m\u001b[0;34m,\u001b[0m\u001b[0;34m\u001b[0m\u001b[0;34m\u001b[0m\u001b[0m\n\u001b[0;32m---> 20\u001b[0;31m                      markeredgecolor=color)\n\u001b[0m\u001b[1;32m     21\u001b[0m \u001b[0;34m\u001b[0m\u001b[0m\n\u001b[1;32m     22\u001b[0m \u001b[0;34m\u001b[0m\u001b[0m\n",
      "\u001b[0;31mValueError\u001b[0m: too many values to unpack (expected 1)"
     ]
    },
    {
     "data": {
      "image/png": "[encoded data removed]",
      "text/plain": [
       "<Figure size 432x288 with 1 Axes>"
      ]
     },
     "metadata": {
      "needs_background": "light"
     },
     "output_type": "display_data"
    }
   ],
   "source": [
    "plotEnrichmentsFromDf(kunkle_enrichments_merged_bg, 'Kunkle (merged background)')\n",
    "plotEnrichmentsFromDf(kunkle_enrichments_indiv_bg, 'Kunkle (individual background)')\n",
    "plotEnrichmentsFromDf(jansen_enrichments_merged_bg, 'Jansen (merged background)')\n",
    "plotEnrichmentsFromDf(jansen_enrichments_indiv_bg, 'Jansen (individual background)')"
   ]
  },
  {
   "cell_type": "code",
   "execution_count": null,
   "metadata": {},
   "outputs": [],
   "source": []
  }
 ],
 "metadata": {
  "kernelspec": {
   "display_name": "Python [conda env:data_analysis]",
   "language": "python",
   "name": "conda-env-data_analysis-py"
  },
  "language_info": {
   "codemirror_mode": {
    "name": "ipython",
    "version": 3
   },
   "file_extension": ".py",
   "mimetype": "text/x-python",
   "name": "python",
   "nbconvert_exporter": "python",
   "pygments_lexer": "ipython3",
   "version": "3.7.3"
  }
 },
 "nbformat": 4,
 "nbformat_minor": 2
}
